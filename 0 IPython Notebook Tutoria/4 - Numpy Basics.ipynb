{
 "cells": [
  {
   "cell_type": "markdown",
   "metadata": {},
   "source": [
    "# Numpy 简介"
   ]
  },
  {
   "cell_type": "markdown",
   "metadata": {},
   "source": [
    "numpy是一个功能强大的工具集，用来执行数字列表的数学运算。 它比普通的Python列表操作更快，也可以处理高维数组。\n",
    "\n",
    "更多帮助可参见:\n",
    "\n",
    " - http://wiki.scipy.org/Tentative_NumPy_Tutorial\n",
    " - http://docs.scipy.org/doc/numpy/reference/"
   ]
  },
  {
   "cell_type": "markdown",
   "metadata": {},
   "source": [
    "> SciPy (pronounced “Sigh Pie”) is a Python-based ecosystem of open-source software for mathematics, science, and engineering.\n",
    ">\n",
    ">  *http://www.scipy.org/*\n",
    "\n",
    "所以NumPy是基于NumPy NDArray的优化性能，是python数据科学的更大的生态系统的一部分。\n",
    "\n",
    "它包含这些核心软件包：\n",
    "\n",
    "<table>\n",
    "<tr>\n",
    "    <td style=\"background:Lavender;\"><img src=\"http://www.scipy.org/_static/images/numpylogo_med.png\"  style=\"width:50px;height:50px;\" /></td>\n",
    "    <td style=\"background:Lavender;\"><h4>NumPy</h4> Base N-dimensional array package </td>\n",
    "    <td><img src=\"http://www.scipy.org/_static/images/scipy_med.png\" style=\"width:50px;height:50px;\" /></td>\n",
    "    <td><h4>SciPy</h4> Fundamental library for scientific computing </td>\n",
    "    <td><img src=\"http://www.scipy.org/_static/images/matplotlib_med.png\" style=\"width:50px;height:50px;\" /></td>\n",
    "    <td><h4>Matplotlib</h4> Comprehensive 2D Plotting </td>\n",
    "</tr>\n",
    "<tr>\n",
    "    <td><img src=\"http://www.scipy.org/_static/images/ipython.png\" style=\"width:50px;height:50px;\" /></td>\n",
    "    <td><h4>IPython</h4> Enhanced Interactive Console </td>\n",
    "    <td><img src=\"http://www.scipy.org/_static/images/sympy_logo.png\" style=\"width:50px;height:50px;\" /></td>\n",
    "    <td><h4>SymPy</h4> Symbolic mathematics </td>\n",
    "    <td><img src=\"http://www.scipy.org/_static/images/pandas_badge2.jpg\" style=\"width:50px;height:50px;\" /></td>\n",
    "    <td><h4>Pandas</h4> Data structures & analysis </td>\n",
    "</tr>\n",
    "</table>\n",
    "\n",
    "\n",
    "\n"
   ]
  },
  {
   "cell_type": "markdown",
   "metadata": {},
   "source": [
    "## 加载Numpy库"
   ]
  },
  {
   "cell_type": "markdown",
   "metadata": {},
   "source": [
    "### Import numpy library as np\n",
    "这有助于编写代码，这几乎是常识性的操作。"
   ]
  },
  {
   "cell_type": "code",
   "execution_count": 1,
   "metadata": {
    "collapsed": true
   },
   "outputs": [],
   "source": [
    "import numpy as np"
   ]
  },
  {
   "cell_type": "markdown",
   "metadata": {},
   "source": [
    "## Working with ndarray"
   ]
  },
  {
   "cell_type": "markdown",
   "metadata": {},
   "source": [
    "用 np.arange 方法生成一个 ndarray \n",
    "\n",
    "#### np.arange([start,] stop[, step,], dtype=None)"
   ]
  },
  {
   "cell_type": "code",
   "execution_count": 2,
   "metadata": {
    "collapsed": true
   },
   "outputs": [],
   "source": [
    "np.arange?"
   ]
  },
  {
   "cell_type": "code",
   "execution_count": 3,
   "metadata": {
    "collapsed": false
   },
   "outputs": [
    {
     "data": {
      "text/plain": [
       "array([0, 1, 2, 3, 4, 5, 6, 7, 8, 9])"
      ]
     },
     "execution_count": 3,
     "metadata": {},
     "output_type": "execute_result"
    }
   ],
   "source": [
    "np.arange(10)"
   ]
  },
  {
   "cell_type": "code",
   "execution_count": 4,
   "metadata": {
    "collapsed": false
   },
   "outputs": [
    {
     "data": {
      "text/plain": [
       "array([1, 2, 3, 4, 5, 6, 7, 8, 9])"
      ]
     },
     "execution_count": 4,
     "metadata": {},
     "output_type": "execute_result"
    }
   ],
   "source": [
    "np.arange(1,10)"
   ]
  },
  {
   "cell_type": "code",
   "execution_count": 5,
   "metadata": {
    "collapsed": false
   },
   "outputs": [
    {
     "data": {
      "text/plain": [
       "array([ 1. ,  1.5,  2. ,  2.5,  3. ,  3.5,  4. ,  4.5,  5. ,  5.5,  6. ,\n",
       "        6.5,  7. ,  7.5,  8. ,  8.5,  9. ,  9.5])"
      ]
     },
     "execution_count": 5,
     "metadata": {},
     "output_type": "execute_result"
    }
   ],
   "source": [
    "np.arange(1,10, 0.5)"
   ]
  },
  {
   "cell_type": "code",
   "execution_count": 6,
   "metadata": {
    "collapsed": false
   },
   "outputs": [
    {
     "data": {
      "text/plain": [
       "array([1, 4, 7])"
      ]
     },
     "execution_count": 6,
     "metadata": {},
     "output_type": "execute_result"
    }
   ],
   "source": [
    "np.arange(1,10, 3)"
   ]
  },
  {
   "cell_type": "code",
   "execution_count": 7,
   "metadata": {
    "collapsed": false
   },
   "outputs": [
    {
     "data": {
      "text/plain": [
       "array([ 1.,  3.,  5.,  7.,  9.])"
      ]
     },
     "execution_count": 7,
     "metadata": {},
     "output_type": "execute_result"
    }
   ],
   "source": [
    "np.arange(1,10, 2, dtype=np.float64)"
   ]
  },
  {
   "cell_type": "markdown",
   "metadata": {},
   "source": [
    "### 探索 ndrray"
   ]
  },
  {
   "cell_type": "code",
   "execution_count": 2,
   "metadata": {
    "collapsed": false
   },
   "outputs": [
    {
     "data": {
      "text/plain": [
       "1"
      ]
     },
     "execution_count": 2,
     "metadata": {},
     "output_type": "execute_result"
    }
   ],
   "source": [
    "ds = np.arange(1,10,2)\n",
    "ds.ndim  #查看维度"
   ]
  },
  {
   "cell_type": "code",
   "execution_count": 8,
   "metadata": {
    "collapsed": false
   },
   "outputs": [
    {
     "data": {
      "text/plain": [
       "(5,)"
      ]
     },
     "execution_count": 8,
     "metadata": {},
     "output_type": "execute_result"
    }
   ],
   "source": [
    "ds.shape #另一种方式查看维度"
   ]
  },
  {
   "cell_type": "code",
   "execution_count": 9,
   "metadata": {
    "collapsed": false
   },
   "outputs": [
    {
     "data": {
      "text/plain": [
       "5"
      ]
     },
     "execution_count": 9,
     "metadata": {},
     "output_type": "execute_result"
    }
   ],
   "source": [
    "ds.size  #查看元素个数"
   ]
  },
  {
   "cell_type": "code",
   "execution_count": 10,
   "metadata": {
    "collapsed": false
   },
   "outputs": [
    {
     "data": {
      "text/plain": [
       "dtype('int32')"
      ]
     },
     "execution_count": 10,
     "metadata": {},
     "output_type": "execute_result"
    }
   ],
   "source": [
    "ds.dtype  #查看数据类型"
   ]
  },
  {
   "cell_type": "code",
   "execution_count": 11,
   "metadata": {
    "collapsed": false
   },
   "outputs": [
    {
     "data": {
      "text/plain": [
       "4"
      ]
     },
     "execution_count": 11,
     "metadata": {},
     "output_type": "execute_result"
    }
   ],
   "source": [
    "ds.itemsize #一个元素占的内存空间大小"
   ]
  },
  {
   "cell_type": "code",
   "execution_count": 12,
   "metadata": {
    "collapsed": false
   },
   "outputs": [
    {
     "data": {
      "text/plain": [
       "<memory at 0x000002076F715A08>"
      ]
     },
     "execution_count": 12,
     "metadata": {},
     "output_type": "execute_result"
    }
   ],
   "source": [
    "x=ds.data  #查看内存中存放的数据\n",
    "x"
   ]
  },
  {
   "cell_type": "code",
   "execution_count": 13,
   "metadata": {
    "collapsed": false
   },
   "outputs": [
    {
     "data": {
      "text/plain": [
       "[1, 3, 5, 7, 9]"
      ]
     },
     "execution_count": 13,
     "metadata": {},
     "output_type": "execute_result"
    }
   ],
   "source": [
    "list(x)  #"
   ]
  },
  {
   "cell_type": "code",
   "execution_count": 14,
   "metadata": {
    "collapsed": false
   },
   "outputs": [
    {
     "data": {
      "text/plain": [
       "20"
      ]
     },
     "execution_count": 14,
     "metadata": {},
     "output_type": "execute_result"
    }
   ],
   "source": [
    "# 内存占用字节数\n",
    "ds.size * ds.itemsize"
   ]
  },
  {
   "cell_type": "markdown",
   "metadata": {},
   "source": [
    "## 为什么要用 numpy?"
   ]
  },
  {
   "cell_type": "markdown",
   "metadata": {},
   "source": [
    "我们将比较创建两个列表上的操作所需的时间，并对它们进行一些基本的操作。"
   ]
  },
  {
   "cell_type": "markdown",
   "metadata": {},
   "source": [
    "### 基本操作"
   ]
  },
  {
   "cell_type": "code",
   "execution_count": 3,
   "metadata": {
    "collapsed": true
   },
   "outputs": [],
   "source": [
    "python_list_1=range(1,1000)\n",
    "python_list_2=range(1,1000)"
   ]
  },
  {
   "cell_type": "code",
   "execution_count": 4,
   "metadata": {
    "collapsed": false
   },
   "outputs": [],
   "source": [
    "%%capture timeit_python\n",
    "%%timeit\n",
    "# Regular Python\n",
    "[(x + y) for x, y in zip(python_list_1, python_list_2)]\n",
    "[(x - y) for x, y in zip(python_list_1, python_list_2)]\n",
    "[(x * y) for x, y in zip(python_list_1, python_list_2)]\n",
    "[(x / y) for x, y in zip(python_list_1, python_list_2)];"
   ]
  },
  {
   "cell_type": "code",
   "execution_count": 5,
   "metadata": {
    "collapsed": false
   },
   "outputs": [
    {
     "name": "stdout",
     "output_type": "stream",
     "text": [
      "1000 loops, best of 3: 330 us per loop\n",
      "\n"
     ]
    }
   ],
   "source": [
    "print(timeit_python)"
   ]
  },
  {
   "cell_type": "code",
   "execution_count": 6,
   "metadata": {
    "collapsed": true
   },
   "outputs": [],
   "source": [
    "numpy_list_1=np.arange(1,1000)\n",
    "numpy_list_2=np.arange(1,1000)"
   ]
  },
  {
   "cell_type": "code",
   "execution_count": 7,
   "metadata": {
    "collapsed": false
   },
   "outputs": [],
   "source": [
    "%%capture timeit_numpy\n",
    "%%timeit\n",
    "#Numpy\n",
    "numpy_list_1 + numpy_list_2\n",
    "numpy_list_1 - numpy_list_2\n",
    "numpy_list_1 * numpy_list_2\n",
    "numpy_list_1 / numpy_list_2"
   ]
  },
  {
   "cell_type": "code",
   "execution_count": 8,
   "metadata": {
    "collapsed": false
   },
   "outputs": [
    {
     "name": "stdout",
     "output_type": "stream",
     "text": [
      "The slowest run took 42.85 times longer than the fastest. This could mean that an intermediate result is being cached.\n",
      "100000 loops, best of 3: 8.06 us per loop\n",
      "\n"
     ]
    }
   ],
   "source": [
    "print(timeit_numpy)"
   ]
  },
  {
   "cell_type": "markdown",
   "metadata": {},
   "source": [
    "## Numpy常用的一些函数"
   ]
  },
  {
   "cell_type": "markdown",
   "metadata": {},
   "source": [
    "## ndarray创建"
   ]
  },
  {
   "cell_type": "markdown",
   "metadata": {},
   "source": [
    "### array(object, dtype=None, copy=True, order=None, subok=False, ndmin=0)"
   ]
  },
  {
   "cell_type": "markdown",
   "metadata": {},
   "source": [
    "```\n",
    "Parameters\n",
    "----------\n",
    "object : array_like\n",
    "    An array, any object exposing the array interface, an\n",
    "    object whose __array__ method returns an array, or any\n",
    "    (nested) sequence.\n",
    "dtype : data-type, optional\n",
    "    The desired data-type for the array.  If not given, then\n",
    "    the type will be determined as the minimum type required\n",
    "    to hold the objects in the sequence.  This argument can only\n",
    "    be used to 'upcast' the array.  For downcasting, use the\n",
    "    .astype(t) method.\n",
    "copy : bool, optional\n",
    "    If true (default), then the object is copied.  Otherwise, a copy\n",
    "    will only be made if __array__ returns a copy, if obj is a\n",
    "    nested sequence, or if a copy is needed to satisfy any of the other\n",
    "    requirements (`dtype`, `order`, etc.).\n",
    "order : {'C', 'F', 'A'}, optional\n",
    "    Specify the order of the array.  If order is 'C' (default), then the\n",
    "    array will be in C-contiguous order (last-index varies the\n",
    "    fastest).  If order is 'F', then the returned array\n",
    "    will be in Fortran-contiguous order (first-index varies the\n",
    "    fastest).  If order is 'A', then the returned array may\n",
    "    be in any order (either C-, Fortran-contiguous, or even\n",
    "    discontiguous).\n",
    "subok : bool, optional\n",
    "    If True, then sub-classes will be passed-through, otherwise\n",
    "    the returned array will be forced to be a base-class array (default).\n",
    "ndmin : int, optional\n",
    "    Specifies the minimum number of dimensions that the resulting\n",
    "    array should have.  Ones will be pre-pended to the shape as\n",
    "    needed to meet this requirement.\n",
    "```"
   ]
  },
  {
   "cell_type": "code",
   "execution_count": 28,
   "metadata": {
    "collapsed": false
   },
   "outputs": [
    {
     "data": {
      "text/plain": [
       "array([1, 2, 3, 4, 5])"
      ]
     },
     "execution_count": 28,
     "metadata": {},
     "output_type": "execute_result"
    }
   ],
   "source": [
    "np.array([1,2,3,4,5])   "
   ]
  },
  {
   "cell_type": "markdown",
   "metadata": {},
   "source": [
    "#### Multi Dimentional Array"
   ]
  },
  {
   "cell_type": "code",
   "execution_count": 29,
   "metadata": {
    "collapsed": false
   },
   "outputs": [
    {
     "data": {
      "text/plain": [
       "array([[1, 2],\n",
       "       [3, 4],\n",
       "       [5, 6]])"
      ]
     },
     "execution_count": 29,
     "metadata": {},
     "output_type": "execute_result"
    }
   ],
   "source": [
    "np.array([[1,2],[3,4],[5,6]])"
   ]
  },
  {
   "cell_type": "markdown",
   "metadata": {},
   "source": [
    "### zeros(shape, dtype=float, order='C')"
   ]
  },
  {
   "cell_type": "markdown",
   "metadata": {},
   "source": [
    "```\n",
    "Parameters\n",
    "----------\n",
    "shape : int or sequence of ints\n",
    "    Shape of the new array, e.g., ``(2, 3)`` or ``2``.\n",
    "dtype : data-type, optional\n",
    "    The desired data-type for the array, e.g., `numpy.int8`.  Default is\n",
    "    `numpy.float64`.\n",
    "order : {'C', 'F'}, optional\n",
    "    Whether to store multidimensional data in C- or Fortran-contiguous\n",
    "    (row- or column-wise) order in memory.\n",
    "```"
   ]
  },
  {
   "cell_type": "code",
   "execution_count": 13,
   "metadata": {
    "collapsed": false
   },
   "outputs": [
    {
     "data": {
      "text/plain": [
       "array([[0., 0., 0.],\n",
       "       [0., 0., 0.],\n",
       "       [0., 0., 0.]])"
      ]
     },
     "execution_count": 13,
     "metadata": {},
     "output_type": "execute_result"
    }
   ],
   "source": [
    "np.zeros((3,3))"
   ]
  },
  {
   "cell_type": "code",
   "execution_count": 11,
   "metadata": {
    "collapsed": false
   },
   "outputs": [
    {
     "data": {
      "text/plain": [
       "array([[0, 0, 0, 0, 0],\n",
       "       [0, 0, 0, 0, 0],\n",
       "       [0, 0, 0, 0, 0]], dtype=int64)"
      ]
     },
     "execution_count": 11,
     "metadata": {},
     "output_type": "execute_result"
    }
   ],
   "source": [
    "np.zeros((3,5), dtype=np.int64)"
   ]
  },
  {
   "cell_type": "markdown",
   "metadata": {},
   "source": [
    "### np.linspace(start, stop, num=50, endpoint=True, retstep=False)"
   ]
  },
  {
   "cell_type": "markdown",
   "metadata": {},
   "source": [
    "```\n",
    "Parameters\n",
    "----------\n",
    "start : scalar\n",
    "    The starting value of the sequence.\n",
    "stop : scalar\n",
    "    The end value of the sequence, unless `endpoint` is set to False.\n",
    "    In that case, the sequence consists of all but the last of ``num + 1``\n",
    "    evenly spaced samples, so that `stop` is excluded.  Note that the step\n",
    "    size changes when `endpoint` is False.\n",
    "num : int, optional\n",
    "    Number of samples to generate. Default is 50.\n",
    "endpoint : bool, optional\n",
    "    If True, `stop` is the last sample. Otherwise, it is not included.\n",
    "    Default is True.\n",
    "retstep : bool, optional\n",
    "    If True, return (`samples`, `step`), where `step` is the spacing\n",
    "    between samples.\n",
    "```"
   ]
  },
  {
   "cell_type": "code",
   "execution_count": 32,
   "metadata": {
    "collapsed": false
   },
   "outputs": [
    {
     "data": {
      "text/plain": [
       "array([ 1.        ,  1.08163265,  1.16326531,  1.24489796,  1.32653061,\n",
       "        1.40816327,  1.48979592,  1.57142857,  1.65306122,  1.73469388,\n",
       "        1.81632653,  1.89795918,  1.97959184,  2.06122449,  2.14285714,\n",
       "        2.2244898 ,  2.30612245,  2.3877551 ,  2.46938776,  2.55102041,\n",
       "        2.63265306,  2.71428571,  2.79591837,  2.87755102,  2.95918367,\n",
       "        3.04081633,  3.12244898,  3.20408163,  3.28571429,  3.36734694,\n",
       "        3.44897959,  3.53061224,  3.6122449 ,  3.69387755,  3.7755102 ,\n",
       "        3.85714286,  3.93877551,  4.02040816,  4.10204082,  4.18367347,\n",
       "        4.26530612,  4.34693878,  4.42857143,  4.51020408,  4.59183673,\n",
       "        4.67346939,  4.75510204,  4.83673469,  4.91836735,  5.        ])"
      ]
     },
     "execution_count": 32,
     "metadata": {},
     "output_type": "execute_result"
    }
   ],
   "source": [
    "np.linspace(1,5)"
   ]
  },
  {
   "cell_type": "code",
   "execution_count": 33,
   "metadata": {
    "collapsed": false
   },
   "outputs": [
    {
     "data": {
      "text/plain": [
       "array([ 0.        ,  0.66666667,  1.33333333,  2.        ])"
      ]
     },
     "execution_count": 33,
     "metadata": {},
     "output_type": "execute_result"
    }
   ],
   "source": [
    "np.linspace(0,2,num=4)"
   ]
  },
  {
   "cell_type": "code",
   "execution_count": 34,
   "metadata": {
    "collapsed": false
   },
   "outputs": [
    {
     "data": {
      "text/plain": [
       "array([ 0. ,  0.5,  1. ,  1.5])"
      ]
     },
     "execution_count": 34,
     "metadata": {},
     "output_type": "execute_result"
    }
   ],
   "source": [
    "np.linspace(0,2,num=4,endpoint=False)"
   ]
  },
  {
   "cell_type": "markdown",
   "metadata": {},
   "source": [
    "### random_sample(size=None)"
   ]
  },
  {
   "cell_type": "markdown",
   "metadata": {},
   "source": [
    "```\n",
    "Parameters\n",
    "----------\n",
    "size : int or tuple of ints, optional\n",
    "    Defines the shape of the returned array of random floats. If None\n",
    "    (the default), returns a single float.\n",
    "```"
   ]
  },
  {
   "cell_type": "code",
   "execution_count": 35,
   "metadata": {
    "collapsed": false
   },
   "outputs": [
    {
     "data": {
      "text/plain": [
       "array([[ 0.54853722,  0.66725888,  0.33680362],\n",
       "       [ 0.32335562,  0.24570423,  0.6398063 ]])"
      ]
     },
     "execution_count": 35,
     "metadata": {},
     "output_type": "execute_result"
    }
   ],
   "source": [
    "np.random.random((2,3))"
   ]
  },
  {
   "cell_type": "code",
   "execution_count": 36,
   "metadata": {
    "collapsed": false
   },
   "outputs": [
    {
     "data": {
      "text/plain": [
       "array([[ 0.7731598 ,  0.35296059,  0.58136254],\n",
       "       [ 0.68026162,  0.17260933,  0.87473458]])"
      ]
     },
     "execution_count": 36,
     "metadata": {},
     "output_type": "execute_result"
    }
   ],
   "source": [
    "np.random.random_sample((2,3))"
   ]
  },
  {
   "cell_type": "markdown",
   "metadata": {},
   "source": [
    "## Numpy的统计分析"
   ]
  },
  {
   "cell_type": "code",
   "execution_count": 37,
   "metadata": {
    "collapsed": false
   },
   "outputs": [
    {
     "data": {
      "text/plain": [
       "array([[ 0.51930738,  0.58462712,  0.99079741],\n",
       "       [ 0.06460546,  0.35145993,  0.76202154]])"
      ]
     },
     "execution_count": 37,
     "metadata": {},
     "output_type": "execute_result"
    }
   ],
   "source": [
    "data_set = np.random.random((2,3))\n",
    "data_set"
   ]
  },
  {
   "cell_type": "markdown",
   "metadata": {},
   "source": [
    "### np.max(a, axis=None, out=None, keepdims=False)"
   ]
  },
  {
   "cell_type": "markdown",
   "metadata": {},
   "source": [
    "```\n",
    "Parameters\n",
    "----------\n",
    "a : array_like\n",
    "    Input data.\n",
    "axis : int, optional\n",
    "    Axis along which to operate.  By default, flattened input is used.\n",
    "out : ndarray, optional\n",
    "    Alternative output array in which to place the result.  Must\n",
    "    be of the same shape and buffer length as the expected output.\n",
    "    See `doc.ufuncs` (Section \"Output arguments\") for more details.\n",
    "keepdims : bool, optional\n",
    "    If this is set to True, the axes which are reduced are left\n",
    "    in the result as dimensions with size one. With this option,\n",
    "    the result will broadcast correctly against the original `arr`.\n",
    "```"
   ]
  },
  {
   "cell_type": "code",
   "execution_count": 38,
   "metadata": {
    "collapsed": false
   },
   "outputs": [
    {
     "data": {
      "text/plain": [
       "0.99079741386293785"
      ]
     },
     "execution_count": 38,
     "metadata": {},
     "output_type": "execute_result"
    }
   ],
   "source": [
    "np.max(data_set)"
   ]
  },
  {
   "cell_type": "code",
   "execution_count": 39,
   "metadata": {
    "collapsed": false
   },
   "outputs": [
    {
     "data": {
      "text/plain": [
       "array([ 0.51930738,  0.58462712,  0.99079741])"
      ]
     },
     "execution_count": 39,
     "metadata": {},
     "output_type": "execute_result"
    }
   ],
   "source": [
    "np.max(data_set, axis=0)"
   ]
  },
  {
   "cell_type": "code",
   "execution_count": 40,
   "metadata": {
    "collapsed": false
   },
   "outputs": [
    {
     "data": {
      "text/plain": [
       "array([ 0.99079741,  0.76202154])"
      ]
     },
     "execution_count": 40,
     "metadata": {},
     "output_type": "execute_result"
    }
   ],
   "source": [
    "np.max(data_set, axis=1)"
   ]
  },
  {
   "cell_type": "markdown",
   "metadata": {},
   "source": [
    "### np.min(a, axis=None, out=None, keepdims=False)"
   ]
  },
  {
   "cell_type": "code",
   "execution_count": 41,
   "metadata": {
    "collapsed": false
   },
   "outputs": [
    {
     "data": {
      "text/plain": [
       "0.064605459463033088"
      ]
     },
     "execution_count": 41,
     "metadata": {},
     "output_type": "execute_result"
    }
   ],
   "source": [
    "np.min(data_set)"
   ]
  },
  {
   "cell_type": "markdown",
   "metadata": {},
   "source": [
    "### np.mean(a, axis=None, dtype=None, out=None, keepdims=False)"
   ]
  },
  {
   "cell_type": "code",
   "execution_count": 42,
   "metadata": {
    "collapsed": false
   },
   "outputs": [
    {
     "data": {
      "text/plain": [
       "0.54546980564625047"
      ]
     },
     "execution_count": 42,
     "metadata": {},
     "output_type": "execute_result"
    }
   ],
   "source": [
    "np.mean(data_set)"
   ]
  },
  {
   "cell_type": "markdown",
   "metadata": {},
   "source": [
    "### np.median(a, axis=None, out=None, overwrite_input=False)"
   ]
  },
  {
   "cell_type": "code",
   "execution_count": 43,
   "metadata": {
    "collapsed": false
   },
   "outputs": [
    {
     "data": {
      "text/plain": [
       "0.55196724742830794"
      ]
     },
     "execution_count": 43,
     "metadata": {},
     "output_type": "execute_result"
    }
   ],
   "source": [
    "np.median(data_set)"
   ]
  },
  {
   "cell_type": "markdown",
   "metadata": {},
   "source": [
    "### np.std(a, axis=None, dtype=None, out=None, ddof=0, keepdims=False)"
   ]
  },
  {
   "cell_type": "code",
   "execution_count": 44,
   "metadata": {
    "collapsed": false
   },
   "outputs": [
    {
     "data": {
      "text/plain": [
       "0.29334264736691923"
      ]
     },
     "execution_count": 44,
     "metadata": {},
     "output_type": "execute_result"
    }
   ],
   "source": [
    "np.std(data_set)"
   ]
  },
  {
   "cell_type": "markdown",
   "metadata": {},
   "source": [
    "### np.sum(a, axis=None, dtype=None, out=None, keepdims=False)"
   ]
  },
  {
   "cell_type": "code",
   "execution_count": 45,
   "metadata": {
    "collapsed": false
   },
   "outputs": [
    {
     "data": {
      "text/plain": [
       "3.2728188338775026"
      ]
     },
     "execution_count": 45,
     "metadata": {},
     "output_type": "execute_result"
    }
   ],
   "source": [
    "np.sum(data_set)"
   ]
  },
  {
   "cell_type": "code",
   "execution_count": null,
   "metadata": {
    "collapsed": true
   },
   "outputs": [],
   "source": []
  },
  {
   "cell_type": "markdown",
   "metadata": {},
   "source": [
    "## 重塑数据形状(Reshaping)"
   ]
  },
  {
   "cell_type": "markdown",
   "metadata": {},
   "source": [
    "### np.reshape(a, newshape, order='C')"
   ]
  },
  {
   "cell_type": "code",
   "execution_count": 46,
   "metadata": {
    "collapsed": false
   },
   "outputs": [
    {
     "data": {
      "text/plain": [
       "array([[ 0.51930738,  0.58462712,  0.99079741],\n",
       "       [ 0.06460546,  0.35145993,  0.76202154]])"
      ]
     },
     "execution_count": 46,
     "metadata": {},
     "output_type": "execute_result"
    }
   ],
   "source": [
    "data_set"
   ]
  },
  {
   "cell_type": "code",
   "execution_count": 47,
   "metadata": {
    "collapsed": false
   },
   "outputs": [
    {
     "data": {
      "text/plain": [
       "array([[ 0.51930738,  0.58462712],\n",
       "       [ 0.99079741,  0.06460546],\n",
       "       [ 0.35145993,  0.76202154]])"
      ]
     },
     "execution_count": 47,
     "metadata": {},
     "output_type": "execute_result"
    }
   ],
   "source": [
    "np.reshape(data_set, (3,2))"
   ]
  },
  {
   "cell_type": "code",
   "execution_count": 48,
   "metadata": {
    "collapsed": false
   },
   "outputs": [
    {
     "data": {
      "text/plain": [
       "array([[ 0.51930738],\n",
       "       [ 0.58462712],\n",
       "       [ 0.99079741],\n",
       "       [ 0.06460546],\n",
       "       [ 0.35145993],\n",
       "       [ 0.76202154]])"
      ]
     },
     "execution_count": 48,
     "metadata": {},
     "output_type": "execute_result"
    }
   ],
   "source": [
    "np.reshape(data_set, (6,1))"
   ]
  },
  {
   "cell_type": "code",
   "execution_count": 49,
   "metadata": {
    "collapsed": false
   },
   "outputs": [
    {
     "data": {
      "text/plain": [
       "array([ 0.51930738,  0.58462712,  0.99079741,  0.06460546,  0.35145993,\n",
       "        0.76202154])"
      ]
     },
     "execution_count": 49,
     "metadata": {},
     "output_type": "execute_result"
    }
   ],
   "source": [
    "np.reshape(data_set, (6))"
   ]
  },
  {
   "cell_type": "markdown",
   "metadata": {},
   "source": [
    "### np.ravel(a, order='C')"
   ]
  },
  {
   "cell_type": "code",
   "execution_count": 50,
   "metadata": {
    "collapsed": false
   },
   "outputs": [
    {
     "data": {
      "text/plain": [
       "array([[ 0.51930738,  0.58462712,  0.99079741],\n",
       "       [ 0.06460546,  0.35145993,  0.76202154]])"
      ]
     },
     "execution_count": 50,
     "metadata": {},
     "output_type": "execute_result"
    }
   ],
   "source": [
    "data_set"
   ]
  },
  {
   "cell_type": "code",
   "execution_count": 51,
   "metadata": {
    "collapsed": false
   },
   "outputs": [
    {
     "data": {
      "text/plain": [
       "array([ 0.51930738,  0.58462712,  0.99079741,  0.06460546,  0.35145993,\n",
       "        0.76202154])"
      ]
     },
     "execution_count": 51,
     "metadata": {},
     "output_type": "execute_result"
    }
   ],
   "source": [
    "np.ravel(data_set)   #数组扁平化"
   ]
  },
  {
   "cell_type": "code",
   "execution_count": 52,
   "metadata": {
    "collapsed": true
   },
   "outputs": [],
   "source": [
    "np.ravel?"
   ]
  },
  {
   "cell_type": "markdown",
   "metadata": {},
   "source": [
    "### Slicing（切片）"
   ]
  },
  {
   "cell_type": "code",
   "execution_count": 54,
   "metadata": {
    "collapsed": false
   },
   "outputs": [
    {
     "data": {
      "text/plain": [
       "array([[ 0.59418707,  0.3485941 ,  0.73377769,  0.10649973,  0.11470625,\n",
       "         0.58037787,  0.10049875,  0.34082015,  0.91530599,  0.16553292],\n",
       "       [ 0.2117392 ,  0.48241083,  0.13690005,  0.0530091 ,  0.15767604,\n",
       "         0.44046033,  0.46562058,  0.65375921,  0.32870468,  0.91519441],\n",
       "       [ 0.6596611 ,  0.70576365,  0.26100397,  0.17555837,  0.93397552,\n",
       "         0.66885039,  0.28742459,  0.81639524,  0.05278959,  0.83406543],\n",
       "       [ 0.42488971,  0.12220396,  0.08628983,  0.87785502,  0.26907759,\n",
       "         0.25024491,  0.86436533,  0.22141363,  0.86238346,  0.62504678],\n",
       "       [ 0.01765955,  0.48565731,  0.92533196,  0.71136182,  0.90043605,\n",
       "         0.91703742,  0.74368159,  0.36985674,  0.06553571,  0.78600482]])"
      ]
     },
     "execution_count": 54,
     "metadata": {},
     "output_type": "execute_result"
    }
   ],
   "source": [
    "data_set = np.random.random((5,10))\n",
    "data_set"
   ]
  },
  {
   "cell_type": "code",
   "execution_count": 55,
   "metadata": {
    "collapsed": false
   },
   "outputs": [
    {
     "data": {
      "text/plain": [
       "array([ 0.2117392 ,  0.48241083,  0.13690005,  0.0530091 ,  0.15767604,\n",
       "        0.44046033,  0.46562058,  0.65375921,  0.32870468,  0.91519441])"
      ]
     },
     "execution_count": 55,
     "metadata": {},
     "output_type": "execute_result"
    }
   ],
   "source": [
    "data_set[1]"
   ]
  },
  {
   "cell_type": "code",
   "execution_count": 56,
   "metadata": {
    "collapsed": false
   },
   "outputs": [
    {
     "data": {
      "text/plain": [
       "0.2117391998914816"
      ]
     },
     "execution_count": 56,
     "metadata": {},
     "output_type": "execute_result"
    }
   ],
   "source": [
    "data_set[1][0]"
   ]
  },
  {
   "cell_type": "code",
   "execution_count": 57,
   "metadata": {
    "collapsed": false
   },
   "outputs": [
    {
     "data": {
      "text/plain": [
       "0.2117391998914816"
      ]
     },
     "execution_count": 57,
     "metadata": {},
     "output_type": "execute_result"
    }
   ],
   "source": [
    "data_set[1,0]"
   ]
  },
  {
   "cell_type": "markdown",
   "metadata": {},
   "source": [
    "#### Slicing a range"
   ]
  },
  {
   "cell_type": "code",
   "execution_count": 58,
   "metadata": {
    "collapsed": false
   },
   "outputs": [
    {
     "data": {
      "text/plain": [
       "array([[ 0.6596611 ,  0.70576365,  0.26100397,  0.17555837,  0.93397552,\n",
       "         0.66885039,  0.28742459,  0.81639524,  0.05278959,  0.83406543],\n",
       "       [ 0.42488971,  0.12220396,  0.08628983,  0.87785502,  0.26907759,\n",
       "         0.25024491,  0.86436533,  0.22141363,  0.86238346,  0.62504678]])"
      ]
     },
     "execution_count": 58,
     "metadata": {},
     "output_type": "execute_result"
    }
   ],
   "source": [
    "data_set[2:4]"
   ]
  },
  {
   "cell_type": "code",
   "execution_count": 59,
   "metadata": {
    "collapsed": false
   },
   "outputs": [
    {
     "data": {
      "text/plain": [
       "array([ 0.6596611 ,  0.42488971])"
      ]
     },
     "execution_count": 59,
     "metadata": {},
     "output_type": "execute_result"
    }
   ],
   "source": [
    "data_set[2:4,0]"
   ]
  },
  {
   "cell_type": "code",
   "execution_count": 60,
   "metadata": {
    "collapsed": false
   },
   "outputs": [
    {
     "data": {
      "text/plain": [
       "array([[ 0.6596611 ,  0.70576365],\n",
       "       [ 0.42488971,  0.12220396]])"
      ]
     },
     "execution_count": 60,
     "metadata": {},
     "output_type": "execute_result"
    }
   ],
   "source": [
    "data_set[2:4,0:2]"
   ]
  },
  {
   "cell_type": "code",
   "execution_count": 61,
   "metadata": {
    "collapsed": false
   },
   "outputs": [
    {
     "data": {
      "text/plain": [
       "array([ 0.59418707,  0.2117392 ,  0.6596611 ,  0.42488971,  0.01765955])"
      ]
     },
     "execution_count": 61,
     "metadata": {},
     "output_type": "execute_result"
    }
   ],
   "source": [
    "data_set[:,0]"
   ]
  },
  {
   "cell_type": "markdown",
   "metadata": {},
   "source": [
    "#### Stepping（步长）"
   ]
  },
  {
   "cell_type": "code",
   "execution_count": 62,
   "metadata": {
    "collapsed": false
   },
   "outputs": [
    {
     "data": {
      "text/plain": [
       "array([[ 0.6596611 ,  0.70576365,  0.26100397,  0.17555837,  0.93397552,\n",
       "         0.66885039,  0.28742459,  0.81639524,  0.05278959,  0.83406543],\n",
       "       [ 0.42488971,  0.12220396,  0.08628983,  0.87785502,  0.26907759,\n",
       "         0.25024491,  0.86436533,  0.22141363,  0.86238346,  0.62504678]])"
      ]
     },
     "execution_count": 62,
     "metadata": {},
     "output_type": "execute_result"
    }
   ],
   "source": [
    "data_set[2:4:1]"
   ]
  },
  {
   "cell_type": "code",
   "execution_count": 74,
   "metadata": {
    "collapsed": false
   },
   "outputs": [
    {
     "data": {
      "text/plain": [
       "array([[ 0.95365395,  0.32505267,  0.82480618,  0.46036321,  0.34338836,\n",
       "         0.12881573,  0.01026362,  0.68100446,  0.94315764,  0.62914417],\n",
       "       [ 0.93864263,  0.39590845,  0.21333959,  0.7078367 ,  0.70270114,\n",
       "         0.32421766,  0.75809732,  0.04037557,  0.9221513 ,  0.67665465],\n",
       "       [ 0.9611624 ,  0.37361325,  0.6545133 ,  0.53755736,  0.45486164,\n",
       "         0.6394931 ,  0.30980385,  0.33339197,  0.94446133,  0.48289455],\n",
       "       [ 0.789572  ,  0.02115418,  0.48178952,  0.78025341,  0.01631776,\n",
       "         0.77592566,  0.30823739,  0.56459575,  0.71829307,  0.65602318],\n",
       "       [ 0.01852271,  0.07014847,  0.70841559,  0.73837653,  0.74884475,\n",
       "         0.18828002,  0.48843505,  0.79682205,  0.76594343,  0.81109415]])"
      ]
     },
     "execution_count": 74,
     "metadata": {},
     "output_type": "execute_result"
    }
   ],
   "source": [
    "data_set[::]"
   ]
  },
  {
   "cell_type": "code",
   "execution_count": 63,
   "metadata": {
    "collapsed": false
   },
   "outputs": [
    {
     "data": {
      "text/plain": [
       "array([[ 0.59418707,  0.3485941 ,  0.73377769,  0.10649973,  0.11470625,\n",
       "         0.58037787,  0.10049875,  0.34082015,  0.91530599,  0.16553292],\n",
       "       [ 0.6596611 ,  0.70576365,  0.26100397,  0.17555837,  0.93397552,\n",
       "         0.66885039,  0.28742459,  0.81639524,  0.05278959,  0.83406543],\n",
       "       [ 0.01765955,  0.48565731,  0.92533196,  0.71136182,  0.90043605,\n",
       "         0.91703742,  0.74368159,  0.36985674,  0.06553571,  0.78600482]])"
      ]
     },
     "execution_count": 63,
     "metadata": {},
     "output_type": "execute_result"
    }
   ],
   "source": [
    "data_set[::2]"
   ]
  },
  {
   "cell_type": "code",
   "execution_count": 64,
   "metadata": {
    "collapsed": false
   },
   "outputs": [
    {
     "data": {
      "text/plain": [
       "array([[ 0.6596611 ,  0.70576365,  0.26100397,  0.17555837,  0.93397552,\n",
       "         0.66885039,  0.28742459,  0.81639524,  0.05278959,  0.83406543],\n",
       "       [ 0.42488971,  0.12220396,  0.08628983,  0.87785502,  0.26907759,\n",
       "         0.25024491,  0.86436533,  0.22141363,  0.86238346,  0.62504678]])"
      ]
     },
     "execution_count": 64,
     "metadata": {},
     "output_type": "execute_result"
    }
   ],
   "source": [
    "data_set[2:4]"
   ]
  },
  {
   "cell_type": "code",
   "execution_count": 65,
   "metadata": {
    "collapsed": false,
    "scrolled": true
   },
   "outputs": [
    {
     "data": {
      "text/plain": [
       "array([[ 0.6596611 ,  0.26100397,  0.93397552,  0.28742459,  0.05278959],\n",
       "       [ 0.42488971,  0.08628983,  0.26907759,  0.86436533,  0.86238346]])"
      ]
     },
     "execution_count": 65,
     "metadata": {},
     "output_type": "execute_result"
    }
   ],
   "source": [
    "data_set[2:4,::2]"
   ]
  },
  {
   "cell_type": "markdown",
   "metadata": {},
   "source": [
    "# Thanks"
   ]
  },
  {
   "cell_type": "code",
   "execution_count": null,
   "metadata": {
    "collapsed": true
   },
   "outputs": [],
   "source": []
  }
 ],
 "metadata": {
  "anaconda-cloud": {},
  "kernelspec": {
   "display_name": "Python [conda root]",
   "language": "python",
   "name": "conda-root-py"
  },
  "language_info": {
   "codemirror_mode": {
    "name": "ipython",
    "version": 3
   },
   "file_extension": ".py",
   "mimetype": "text/x-python",
   "name": "python",
   "nbconvert_exporter": "python",
   "pygments_lexer": "ipython3",
   "version": "3.5.2"
  }
 },
 "nbformat": 4,
 "nbformat_minor": 1
}
