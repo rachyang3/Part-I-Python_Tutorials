{
 "cells": [
  {
   "cell_type": "markdown",
   "metadata": {},
   "source": [
    "# Tutorial Brief"
   ]
  },
  {
   "cell_type": "markdown",
   "metadata": {},
   "source": [
    "IPython notebook provides a variaty of web widgets that can interact with python code running the the background kernel.\n",
    "\n",
    "Finding Help:\n",
    "\n",
    "- http://nbviewer.ipython.org/github/ipython/ipython/blob/2.x/examples/Interactive%20Widgets/Index.ipynb"
   ]
  },
  {
   "cell_type": "markdown",
   "metadata": {},
   "source": [
    "<table>\n",
    "<tr>\n",
    "    <td><img src=\"http://www.scipy.org/_static/images/numpylogo_med.png\"  style=\"width:50px;height:50px;\" /></td>\n",
    "    <td><h4>NumPy</h4> Base N-dimensional array package </td>\n",
    "    <td><img src=\"http://www.scipy.org/_static/images/scipy_med.png\" style=\"width:50px;height:50px;\" /></td>\n",
    "    <td><h4>SciPy</h4> Fundamental library for scientific computing </td>\n",
    "    <td><img src=\"http://www.scipy.org/_static/images/matplotlib_med.png\" style=\"width:50px;height:50px;\" /></td>\n",
    "    <td><h4>Matplotlib</h4> Comprehensive 2D Plotting </td>\n",
    "</tr>\n",
    "<tr>\n",
    "    <td style=\"background:Lavender;\"><img src=\"http://www.scipy.org/_static/images/ipython.png\" style=\"width:50px;height:50px;\" /></td>\n",
    "    <td style=\"background:Lavender;\"><h4>IPython</h4> Enhanced Interactive Console </td>\n",
    "    <td><img src=\"http://www.scipy.org/_static/images/sympy_logo.png\" style=\"width:50px;height:50px;\" /></td>\n",
    "    <td><h4>SymPy</h4> Symbolic mathematics </td>\n",
    "    <td><img src=\"http://www.scipy.org/_static/images/pandas_badge2.jpg\" style=\"width:50px;height:50px;\" /></td>\n",
    "    <td><h4>Pandas</h4> Data structures & analysis </td>\n",
    "</tr>\n",
    "</table>"
   ]
  },
  {
   "cell_type": "markdown",
   "metadata": {},
   "source": [
    "# Why do we use widgets?"
   ]
  },
  {
   "cell_type": "markdown",
   "metadata": {},
   "source": [
    "> ##IPython includes an architecture for interactive widgets that tie together Python code running in the kernel and JavaScript/HTML/CSS running in the browser. These widgets enable users to explore their code and data interactively.\n",
    "> *http://nbviewer.ipython.org/github/ipython/ipython/blob/2.x/examples/Interactive%20Widgets/Index.ipynb*"
   ]
  },
  {
   "cell_type": "markdown",
   "metadata": {},
   "source": [
    "# Import libraries"
   ]
  },
  {
   "cell_type": "code",
   "execution_count": 1,
   "metadata": {
    "collapsed": true
   },
   "outputs": [],
   "source": [
    "import numpy as np\n",
    "import matplotlib.pyplot as plt"
   ]
  },
  {
   "cell_type": "code",
   "execution_count": 2,
   "metadata": {
    "collapsed": true
   },
   "outputs": [],
   "source": [
    "from ipywidgets import widgets\n",
    "from ipywidgets.widgets import interact\n",
    "from IPython.display import display"
   ]
  },
  {
   "cell_type": "markdown",
   "metadata": {},
   "source": [
    "## Build-it Widgets"
   ]
  },
  {
   "cell_type": "code",
   "execution_count": 4,
   "metadata": {},
   "outputs": [
    {
     "data": {
      "application/vnd.jupyter.widget-view+json": {
       "model_id": "f4899b3cbc164ddfba2d49fb308e3990",
       "version_major": 2,
       "version_minor": 0
      },
      "text/plain": [
       "A Jupyter Widget"
      ]
     },
     "metadata": {},
     "output_type": "display_data"
    }
   ],
   "source": [
    "tab1_children = [widgets.Button(description=\"ButtonWidget\"),\n",
    "                 widgets.Checkbox(description=\"CheckboxWidget\"),\n",
    "                 widgets.Dropdown(values=[1, 2], description=\"DropdownWidget\"),\n",
    "                 widgets.RadioButtons(values=[1, 2], description=\"RadioButtonsWidget\"),\n",
    "                 widgets.Select(values=[1, 2], description=\"SelectWidget\"),\n",
    "                 widgets.Text(description=\"TextWidget\"),\n",
    "                 widgets.Textarea(description=\"TextareaWidget\"),\n",
    "                 widgets.ToggleButton(description=\"ToggleButtonWidget\"),\n",
    "                 widgets.ToggleButtons(values=[\"Value 1\", \"Value2\"], description=\"ToggleButtonsWidget\"),\n",
    "                 ]\n",
    "\n",
    "tab2_children = [widgets.BoundedFloatText(description=\"BoundedFloatTextWidget\"),\n",
    "                 widgets.BoundedIntText(description=\"BoundedIntTextWidget\"),\n",
    "                 widgets.FloatSlider(description=\"FloatSliderWidget\"),\n",
    "                 widgets.FloatText(description=\"FloatTextWidget\"),\n",
    "                 widgets.IntSlider(description=\"IntSliderWidget\"),\n",
    "                 widgets.IntText(description=\"IntTextWidget\"),\n",
    "                 ]\n",
    "\n",
    "tab1 = widgets.Tab(children=tab1_children)\n",
    "tab2 = widgets.Tab(children=tab2_children)\n",
    "\n",
    "\n",
    "i = widgets.Accordion(children=[tab1, tab2])\n",
    "\n",
    "i.set_title(0,\"Basic Widgets\")\n",
    "i.set_title(1,\"Numbers Input\")\n",
    "\n",
    "display(i)\n",
    "\n",
    "#如不显示，要执行：jupyter nbextension enable --py widgetsnbextension"
   ]
  },
  {
   "cell_type": "code",
   "execution_count": 3,
   "metadata": {},
   "outputs": [
    {
     "data": {
      "application/vnd.jupyter.widget-view+json": {
       "model_id": "0e8407425e5b4060b8a6ca73b7ade31f",
       "version_major": 2,
       "version_minor": 0
      },
      "text/plain": [
       "A Jupyter Widget"
      ]
     },
     "metadata": {},
     "output_type": "display_data"
    }
   ],
   "source": [
    "from ipywidgets import *\n",
    "from IPython.display import display\n",
    "\n",
    "a = VBox([HBox([Button(), FloatRangeSlider(), Text(), Button()]),\n",
    "          HBox([Button(), FloatText(),\n",
    "          FloatProgress(value=40), Checkbox(description='Check')]),\n",
    "          HBox([ToggleButton(), IntSlider(description='Foobar'),\n",
    "          Dropdown(options=['foo', 'bar']), Valid()]),\n",
    " ])\n",
    "\n",
    "display(a)"
   ]
  },
  {
   "cell_type": "markdown",
   "metadata": {},
   "source": [
    "# Simple Example"
   ]
  },
  {
   "cell_type": "markdown",
   "metadata": {},
   "source": [
    "We will define a function that print the factorial(阶乘).\n",
    "\n",
    "$f(x) = x!$\n",
    "\n",
    "$f(x) = x \\times (x-1) \\times ... 1$\n",
    "\n",
    "$f(3) = 3! = 3 \\times 2 \\times 1 = 6$"
   ]
  },
  {
   "cell_type": "code",
   "execution_count": 5,
   "metadata": {
    "collapsed": true
   },
   "outputs": [],
   "source": [
    "def factorial(x):\n",
    "    print \"%s!= %s\" % (x,np.math.factorial(x))\n",
    "\n",
    "def factorial2(x):\n",
    "    if type(x) == int:\n",
    "        if x >= 0:\n",
    "            print np.prod(np.arange(1,x+1))    #prod product乘积\n",
    "        else:\n",
    "            print \"ERROR: Number must be positive\"\n",
    "    else:\n",
    "        print \"ERROR: Only interger is allowed\""
   ]
  },
  {
   "cell_type": "markdown",
   "metadata": {},
   "source": [
    "Now we will test it using a code cell"
   ]
  },
  {
   "cell_type": "code",
   "execution_count": 6,
   "metadata": {},
   "outputs": [
    {
     "name": "stdout",
     "output_type": "stream",
     "text": [
      "3!= 6\n"
     ]
    }
   ],
   "source": [
    "factorial(3)"
   ]
  },
  {
   "cell_type": "markdown",
   "metadata": {},
   "source": [
    "# Using interact function"
   ]
  },
  {
   "cell_type": "markdown",
   "metadata": {},
   "source": [
    "We will link that to a slider to make the x a variable that we can control."
   ]
  },
  {
   "cell_type": "code",
   "execution_count": 7,
   "metadata": {},
   "outputs": [
    {
     "data": {
      "application/vnd.jupyter.widget-view+json": {
       "model_id": "e86b237a6ad7408d9e9374ffa941e72a",
       "version_major": 2,
       "version_minor": 0
      },
      "text/plain": [
       "A Jupyter Widget"
      ]
     },
     "metadata": {},
     "output_type": "display_data"
    }
   ],
   "source": [
    "i = interact(factorial, x=(0,100))"
   ]
  },
  {
   "cell_type": "markdown",
   "metadata": {},
   "source": [
    "## Controlling a Chart"
   ]
  },
  {
   "cell_type": "code",
   "execution_count": 8,
   "metadata": {
    "collapsed": true
   },
   "outputs": [],
   "source": [
    "#This function plot x, y and adds a title\n",
    "def plt_arrays(x, y, title=\"\", color=\"red\", linestyle=\"dashed\", linewidth=2):\n",
    "    fig = plt.figure()\n",
    "    axes = fig.add_subplot(111)\n",
    "    axes.plot(x,y, color=color, linestyle=linestyle, linewidth=linewidth)\n",
    "    axes.set_title(title)\n",
    "    axes.grid()\n",
    "    plt.show()"
   ]
  },
  {
   "cell_type": "markdown",
   "metadata": {},
   "source": [
    "We will define a function that return the following:\n",
    "\n",
    "$f(x) = ax^3 + bx^2 + cx + d$\n",
    "\n",
    "where a,b,c and d are are constants."
   ]
  },
  {
   "cell_type": "code",
   "execution_count": 9,
   "metadata": {
    "collapsed": true
   },
   "outputs": [],
   "source": [
    "def f(a, b, c, d, **kwargs):\n",
    "    x=np.linspace(-10, 10, 20)\n",
    "    y = a*(x**3) + b*(x**2) + c*x + d\n",
    "    \n",
    "    title=\"$f(x) = (%s)x^{3} + (%s)x^{2} + (%s)x + (%s)$\" % (a,b,c,d)\n",
    "    \n",
    "    plt_arrays(x,y, title=title, **kwargs)"
   ]
  },
  {
   "cell_type": "code",
   "execution_count": 10,
   "metadata": {},
   "outputs": [
    {
     "data": {
      "image/png": "[encoded data removed]",
      "text/plain": [
       "<matplotlib.figure.Figure at 0xbf34080>"
      ]
     },
     "metadata": {},
     "output_type": "display_data"
    }
   ],
   "source": [
    "#Define Constants\n",
    "a=0.25\n",
    "b=2\n",
    "c=-4\n",
    "d=0\n",
    "\n",
    "f(a, b, c, d)"
   ]
  },
  {
   "cell_type": "code",
   "execution_count": 11,
   "metadata": {},
   "outputs": [
    {
     "data": {
      "image/png": "[encoded data removed]",
      "text/plain": [
       "<matplotlib.figure.Figure at 0xc1db6d8>"
      ]
     },
     "metadata": {},
     "output_type": "display_data"
    }
   ],
   "source": [
    "%matplotlib inline\n",
    "f(a, b, c, d)"
   ]
  },
  {
   "cell_type": "code",
   "execution_count": 12,
   "metadata": {},
   "outputs": [
    {
     "data": {
      "application/vnd.jupyter.widget-view+json": {
       "model_id": "0e6f796a732a4b3d9b8a8951db55e824",
       "version_major": 2,
       "version_minor": 0
      },
      "text/plain": [
       "A Jupyter Widget"
      ]
     },
     "metadata": {},
     "output_type": "display_data"
    }
   ],
   "source": [
    "i = interact(f,\n",
    "             a=(-10.,10),\n",
    "             b=(-10.,10),\n",
    "             c=(-10.,10),\n",
    "             d=(-10.,10),\n",
    "             color = [\"red\", \"blue\", \"green\"],\n",
    "             linestyle=[\"solid\", \"dashed\"],\n",
    "             linewidth=(1,5)\n",
    "             )"
   ]
  },
  {
   "cell_type": "markdown",
   "metadata": {},
   "source": [
    "## Displaying a widget from interact function"
   ]
  },
  {
   "cell_type": "code",
   "execution_count": 13,
   "metadata": {},
   "outputs": [
    {
     "data": {
      "application/vnd.jupyter.widget-view+json": {
       "model_id": "0e6f796a732a4b3d9b8a8951db55e824",
       "version_major": 2,
       "version_minor": 0
      },
      "text/plain": [
       "A Jupyter Widget"
      ]
     },
     "metadata": {},
     "output_type": "display_data"
    }
   ],
   "source": [
    "i.widget"
   ]
  },
  {
   "cell_type": "code",
   "execution_count": null,
   "metadata": {
    "collapsed": true
   },
   "outputs": [],
   "source": []
  }
 ],
 "metadata": {
  "kernelspec": {
   "display_name": "Python 2",
   "language": "python",
   "name": "python2"
  },
  "language_info": {
   "codemirror_mode": {
    "name": "ipython",
    "version": 2
   },
   "file_extension": ".py",
   "mimetype": "text/x-python",
   "name": "python",
   "nbconvert_exporter": "python",
   "pygments_lexer": "ipython2",
   "version": "2.7.13"
  }
 },
 "nbformat": 4,
 "nbformat_minor": 1
}
