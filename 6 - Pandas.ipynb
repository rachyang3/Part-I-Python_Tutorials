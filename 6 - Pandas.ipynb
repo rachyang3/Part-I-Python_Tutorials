{
 "cells": [
  {
   "cell_type": "markdown",
   "metadata": {},
   "source": [
    "# Pandas简介"
   ]
  },
  {
   "cell_type": "markdown",
   "metadata": {},
   "source": [
    "Pandas是功能强大且易于使用的类似数据库的分析工具。它有两个主要的对象来表示数据：Series和DataFrame。\n",
    "\n",
    "更多帮助:\n",
    "\n",
    "- http://pandas.pydata.org/pandas-docs/stable/10min.html\n",
    "- http://pandas.pydata.org/pandas-docs/stable/tutorials.html"
   ]
  },
  {
   "cell_type": "markdown",
   "metadata": {},
   "source": [
    "<table>\n",
    "<tr>\n",
    "    <td><img src=\"http://www.scipy.org/_static/images/numpylogo_med.png\"  style=\"width:50px;height:50px;\" /></td>\n",
    "    <td><h4>NumPy</h4> Base N-dimensional array package </td>\n",
    "    <td><img src=\"http://www.scipy.org/_static/images/scipy_med.png\" style=\"width:50px;height:50px;\" /></td>\n",
    "    <td><h4>SciPy</h4> Fundamental library for scientific computing </td>\n",
    "    <td><img src=\"http://www.scipy.org/_static/images/matplotlib_med.png\" style=\"width:50px;height:50px;\" /></td>\n",
    "    <td><h4>Matplotlib</h4> Comprehensive 2D Plotting </td>\n",
    "</tr>\n",
    "<tr>\n",
    "    <td><img src=\"http://www.scipy.org/_static/images/ipython.png\" style=\"width:50px;height:50px;\" /></td>\n",
    "    <td><h4>IPython</h4> Enhanced Interactive Console </td>\n",
    "    <td><img src=\"http://www.scipy.org/_static/images/sympy_logo.png\" style=\"width:50px;height:50px;\" /></td>\n",
    "    <td><h4>SymPy</h4> Symbolic mathematics </td>\n",
    "    <td style=\"background:Lavender;\"><img src=\"http://www.scipy.org/_static/images/pandas_badge2.jpg\" style=\"width:50px;height:50px;\" /></td>\n",
    "    <td style=\"background:Lavender;\"><h4>Pandas</h4> Data structures & analysis </td>\n",
    "</tr>\n",
    "</table>"
   ]
  },
  {
   "cell_type": "markdown",
   "metadata": {},
   "source": [
    "## 加载库"
   ]
  },
  {
   "cell_type": "code",
   "execution_count": 1,
   "metadata": {
    "collapsed": true
   },
   "outputs": [],
   "source": [
    "import numpy as np\n",
    "import matplotlib.pyplot as plt\n",
    "import pandas as pd"
   ]
  },
  {
   "cell_type": "markdown",
   "metadata": {},
   "source": [
    "## Working with Series"
   ]
  },
  {
   "cell_type": "markdown",
   "metadata": {},
   "source": [
    "Series是一个类似一维数组的对象，不过它有个强化的索引。"
   ]
  },
  {
   "cell_type": "markdown",
   "metadata": {},
   "source": [
    "#### pd.Series(self, data=None, index=None, dtype=None, name=None, copy=False, fastpath=False)"
   ]
  },
  {
   "cell_type": "code",
   "execution_count": 3,
   "metadata": {
    "collapsed": false
   },
   "outputs": [
    {
     "data": {
      "text/plain": [
       "0    1\n",
       "1    2\n",
       "2    3\n",
       "3    4\n",
       "4    5\n",
       "dtype: int64"
      ]
     },
     "execution_count": 3,
     "metadata": {},
     "output_type": "execute_result"
    }
   ],
   "source": [
    "x = pd.Series([1,2,3,4,5])\n",
    "x"
   ]
  },
  {
   "cell_type": "markdown",
   "metadata": {},
   "source": [
    "注意，Series为项目生成了一个索引"
   ]
  },
  {
   "cell_type": "markdown",
   "metadata": {},
   "source": [
    "## Series基本操作"
   ]
  },
  {
   "cell_type": "code",
   "execution_count": 4,
   "metadata": {
    "collapsed": false
   },
   "outputs": [
    {
     "data": {
      "text/plain": [
       "0    101\n",
       "1    102\n",
       "2    103\n",
       "3    104\n",
       "4    105\n",
       "dtype: int64"
      ]
     },
     "execution_count": 4,
     "metadata": {},
     "output_type": "execute_result"
    }
   ],
   "source": [
    "x + 100"
   ]
  },
  {
   "cell_type": "code",
   "execution_count": 5,
   "metadata": {
    "collapsed": false
   },
   "outputs": [
    {
     "data": {
      "text/plain": [
       "0    101\n",
       "1    104\n",
       "2    109\n",
       "3    116\n",
       "4    125\n",
       "dtype: int64"
      ]
     },
     "execution_count": 5,
     "metadata": {},
     "output_type": "execute_result"
    }
   ],
   "source": [
    "(x ** 2) + 100"
   ]
  },
  {
   "cell_type": "code",
   "execution_count": 6,
   "metadata": {
    "collapsed": false
   },
   "outputs": [
    {
     "data": {
      "text/plain": [
       "0    False\n",
       "1    False\n",
       "2     True\n",
       "3     True\n",
       "4     True\n",
       "dtype: bool"
      ]
     },
     "execution_count": 6,
     "metadata": {},
     "output_type": "execute_result"
    }
   ],
   "source": [
    "x > 2"
   ]
  },
  {
   "cell_type": "markdown",
   "metadata": {},
   "source": [
    "## `any()` and `all()`  "
   ]
  },
  {
   "cell_type": "code",
   "execution_count": 7,
   "metadata": {
    "collapsed": false
   },
   "outputs": [
    {
     "data": {
      "text/plain": [
       "0    False\n",
       "1    False\n",
       "2     True\n",
       "3     True\n",
       "4     True\n",
       "dtype: bool"
      ]
     },
     "execution_count": 7,
     "metadata": {},
     "output_type": "execute_result"
    }
   ],
   "source": [
    "larger_than_2 = x > 2\n",
    "larger_than_2"
   ]
  },
  {
   "cell_type": "code",
   "execution_count": 8,
   "metadata": {
    "collapsed": false
   },
   "outputs": [
    {
     "data": {
      "text/plain": [
       "True"
      ]
     },
     "execution_count": 8,
     "metadata": {},
     "output_type": "execute_result"
    }
   ],
   "source": [
    "larger_than_2.any()   #（至少一个为True）"
   ]
  },
  {
   "cell_type": "code",
   "execution_count": 9,
   "metadata": {
    "collapsed": false
   },
   "outputs": [
    {
     "data": {
      "text/plain": [
       "False"
      ]
     },
     "execution_count": 9,
     "metadata": {},
     "output_type": "execute_result"
    }
   ],
   "source": [
    "larger_than_2.all()   #（全部为True）"
   ]
  },
  {
   "cell_type": "markdown",
   "metadata": {},
   "source": [
    "## `apply()`"
   ]
  },
  {
   "cell_type": "code",
   "execution_count": 10,
   "metadata": {
    "collapsed": false
   },
   "outputs": [
    {
     "data": {
      "text/plain": [
       "0     3\n",
       "1     4\n",
       "2     9\n",
       "3     8\n",
       "4    15\n",
       "dtype: int64"
      ]
     },
     "execution_count": 10,
     "metadata": {},
     "output_type": "execute_result"
    }
   ],
   "source": [
    "def f(x):\n",
    "    if x % 2 == 0:\n",
    "        return x * 2\n",
    "    else:\n",
    "        return x * 3\n",
    "\n",
    "x.apply(f)"
   ]
  },
  {
   "cell_type": "markdown",
   "metadata": {},
   "source": [
    "**Avoid looping over your data**\n",
    "\n",
    "This is a `%%timeit` results from `apply()` and a for loop.\n",
    "\n",
    "有人认为pandas中最核心、最经典的函数是apply  map   applymap，这三个函数是pandas里面数据变换的核心  避免了for循环"
   ]
  },
  {
   "cell_type": "code",
   "execution_count": 11,
   "metadata": {
    "collapsed": false
   },
   "outputs": [
    {
     "name": "stdout",
     "output_type": "stream",
     "text": [
      "1 loop, best of 3: 163 ms per loop\n"
     ]
    }
   ],
   "source": [
    "%%timeit\n",
    "\n",
    "ds = pd.Series(range(10000))\n",
    "\n",
    "for counter in range(len(ds)):\n",
    "    ds[counter] = f(ds[counter])"
   ]
  },
  {
   "cell_type": "code",
   "execution_count": 12,
   "metadata": {
    "collapsed": false
   },
   "outputs": [
    {
     "name": "stdout",
     "output_type": "stream",
     "text": [
      "100 loops, best of 3: 5.18 ms per loop\n"
     ]
    }
   ],
   "source": [
    "%%timeit\n",
    "\n",
    "ds = pd.Series(range(10000))\n",
    "\n",
    "ds = ds.apply(f)"
   ]
  },
  {
   "cell_type": "markdown",
   "metadata": {},
   "source": [
    "### `astype()` 转换数据类型"
   ]
  },
  {
   "cell_type": "code",
   "execution_count": 9,
   "metadata": {
    "collapsed": false
   },
   "outputs": [
    {
     "data": {
      "text/plain": [
       "0    1.0\n",
       "1    2.0\n",
       "2    3.0\n",
       "3    4.0\n",
       "4    5.0\n",
       "dtype: float64"
      ]
     },
     "execution_count": 9,
     "metadata": {},
     "output_type": "execute_result"
    }
   ],
   "source": [
    "x.astype(np.float64)"
   ]
  },
  {
   "cell_type": "markdown",
   "metadata": {},
   "source": [
    "## `copy()`"
   ]
  },
  {
   "cell_type": "code",
   "execution_count": 11,
   "metadata": {
    "collapsed": true
   },
   "outputs": [],
   "source": [
    "y = x"
   ]
  },
  {
   "cell_type": "code",
   "execution_count": 12,
   "metadata": {
    "collapsed": false
   },
   "outputs": [
    {
     "data": {
      "text/plain": [
       "1"
      ]
     },
     "execution_count": 12,
     "metadata": {},
     "output_type": "execute_result"
    }
   ],
   "source": [
    "y[0]"
   ]
  },
  {
   "cell_type": "code",
   "execution_count": 13,
   "metadata": {
    "collapsed": true
   },
   "outputs": [],
   "source": [
    "y[0] = 100"
   ]
  },
  {
   "cell_type": "code",
   "execution_count": 14,
   "metadata": {
    "collapsed": false
   },
   "outputs": [
    {
     "data": {
      "text/plain": [
       "0    100\n",
       "1      2\n",
       "2      3\n",
       "3      4\n",
       "4      5\n",
       "dtype: int64"
      ]
     },
     "execution_count": 14,
     "metadata": {},
     "output_type": "execute_result"
    }
   ],
   "source": [
    "y"
   ]
  },
  {
   "cell_type": "code",
   "execution_count": 15,
   "metadata": {
    "collapsed": false
   },
   "outputs": [
    {
     "data": {
      "text/plain": [
       "0    100\n",
       "1      2\n",
       "2      3\n",
       "3      4\n",
       "4      5\n",
       "dtype: int64"
      ]
     },
     "execution_count": 15,
     "metadata": {},
     "output_type": "execute_result"
    }
   ],
   "source": [
    "x"
   ]
  },
  {
   "cell_type": "markdown",
   "metadata": {},
   "source": [
    "**Avoid using copy (is you can) to save memory**"
   ]
  },
  {
   "cell_type": "code",
   "execution_count": 16,
   "metadata": {
    "collapsed": true
   },
   "outputs": [],
   "source": [
    "y = x.copy()"
   ]
  },
  {
   "cell_type": "code",
   "execution_count": 17,
   "metadata": {
    "collapsed": true
   },
   "outputs": [],
   "source": [
    "x[0]=1"
   ]
  },
  {
   "cell_type": "code",
   "execution_count": 18,
   "metadata": {
    "collapsed": false
   },
   "outputs": [
    {
     "data": {
      "text/plain": [
       "0    1\n",
       "1    2\n",
       "2    3\n",
       "3    4\n",
       "4    5\n",
       "dtype: int64"
      ]
     },
     "execution_count": 18,
     "metadata": {},
     "output_type": "execute_result"
    }
   ],
   "source": [
    "x"
   ]
  },
  {
   "cell_type": "code",
   "execution_count": 19,
   "metadata": {
    "collapsed": false
   },
   "outputs": [
    {
     "data": {
      "text/plain": [
       "0    100\n",
       "1      2\n",
       "2      3\n",
       "3      4\n",
       "4      5\n",
       "dtype: int64"
      ]
     },
     "execution_count": 19,
     "metadata": {},
     "output_type": "execute_result"
    }
   ],
   "source": [
    "y"
   ]
  },
  {
   "cell_type": "code",
   "execution_count": 20,
   "metadata": {
    "collapsed": false
   },
   "outputs": [
    {
     "data": {
      "text/plain": [
       "count    5.000000\n",
       "mean     3.000000\n",
       "std      1.581139\n",
       "min      1.000000\n",
       "25%      2.000000\n",
       "50%      3.000000\n",
       "75%      4.000000\n",
       "max      5.000000\n",
       "dtype: float64"
      ]
     },
     "execution_count": 20,
     "metadata": {},
     "output_type": "execute_result"
    }
   ],
   "source": [
    "x.describe()"
   ]
  },
  {
   "cell_type": "markdown",
   "metadata": {},
   "source": [
    "## 数据框(DataFrame)"
   ]
  },
  {
   "cell_type": "markdown",
   "metadata": {},
   "source": [
    "#### pd.DataFrame(self, data=None, index=None, columns=None, dtype=None, copy=False)"
   ]
  },
  {
   "cell_type": "code",
   "execution_count": 21,
   "metadata": {
    "collapsed": true
   },
   "outputs": [],
   "source": [
    "data = [1,2,3,4,5,6,7,8,9]\n",
    "df = pd.DataFrame(data, columns=[\"x\"])"
   ]
  },
  {
   "cell_type": "code",
   "execution_count": 22,
   "metadata": {
    "collapsed": false
   },
   "outputs": [
    {
     "data": {
      "text/html": [
       "<div>\n",
       "<style scoped>\n",
       "    .dataframe tbody tr th:only-of-type {\n",
       "        vertical-align: middle;\n",
       "    }\n",
       "\n",
       "    .dataframe tbody tr th {\n",
       "        vertical-align: top;\n",
       "    }\n",
       "\n",
       "    .dataframe thead th {\n",
       "        text-align: right;\n",
       "    }\n",
       "</style>\n",
       "<table border=\"1\" class=\"dataframe\">\n",
       "  <thead>\n",
       "    <tr style=\"text-align: right;\">\n",
       "      <th></th>\n",
       "      <th>x</th>\n",
       "    </tr>\n",
       "  </thead>\n",
       "  <tbody>\n",
       "    <tr>\n",
       "      <th>0</th>\n",
       "      <td>1</td>\n",
       "    </tr>\n",
       "    <tr>\n",
       "      <th>1</th>\n",
       "      <td>2</td>\n",
       "    </tr>\n",
       "    <tr>\n",
       "      <th>2</th>\n",
       "      <td>3</td>\n",
       "    </tr>\n",
       "    <tr>\n",
       "      <th>3</th>\n",
       "      <td>4</td>\n",
       "    </tr>\n",
       "    <tr>\n",
       "      <th>4</th>\n",
       "      <td>5</td>\n",
       "    </tr>\n",
       "    <tr>\n",
       "      <th>5</th>\n",
       "      <td>6</td>\n",
       "    </tr>\n",
       "    <tr>\n",
       "      <th>6</th>\n",
       "      <td>7</td>\n",
       "    </tr>\n",
       "    <tr>\n",
       "      <th>7</th>\n",
       "      <td>8</td>\n",
       "    </tr>\n",
       "    <tr>\n",
       "      <th>8</th>\n",
       "      <td>9</td>\n",
       "    </tr>\n",
       "  </tbody>\n",
       "</table>\n",
       "</div>"
      ],
      "text/plain": [
       "   x\n",
       "0  1\n",
       "1  2\n",
       "2  3\n",
       "3  4\n",
       "4  5\n",
       "5  6\n",
       "6  7\n",
       "7  8\n",
       "8  9"
      ]
     },
     "execution_count": 22,
     "metadata": {},
     "output_type": "execute_result"
    }
   ],
   "source": [
    "df"
   ]
  },
  {
   "cell_type": "markdown",
   "metadata": {},
   "source": [
    "## 选择数据"
   ]
  },
  {
   "cell_type": "code",
   "execution_count": 23,
   "metadata": {
    "collapsed": false
   },
   "outputs": [
    {
     "data": {
      "text/plain": [
       "0    1\n",
       "1    2\n",
       "2    3\n",
       "3    4\n",
       "4    5\n",
       "5    6\n",
       "6    7\n",
       "7    8\n",
       "8    9\n",
       "Name: x, dtype: int64"
      ]
     },
     "execution_count": 23,
     "metadata": {},
     "output_type": "execute_result"
    }
   ],
   "source": [
    "df[\"x\"]"
   ]
  },
  {
   "cell_type": "code",
   "execution_count": 24,
   "metadata": {
    "collapsed": false
   },
   "outputs": [
    {
     "data": {
      "text/plain": [
       "1"
      ]
     },
     "execution_count": 24,
     "metadata": {},
     "output_type": "execute_result"
    }
   ],
   "source": [
    "df[\"x\"][0]"
   ]
  },
  {
   "cell_type": "markdown",
   "metadata": {},
   "source": [
    "## 增加新列"
   ]
  },
  {
   "cell_type": "code",
   "execution_count": 25,
   "metadata": {
    "collapsed": false
   },
   "outputs": [
    {
     "data": {
      "text/html": [
       "<div>\n",
       "<style scoped>\n",
       "    .dataframe tbody tr th:only-of-type {\n",
       "        vertical-align: middle;\n",
       "    }\n",
       "\n",
       "    .dataframe tbody tr th {\n",
       "        vertical-align: top;\n",
       "    }\n",
       "\n",
       "    .dataframe thead th {\n",
       "        text-align: right;\n",
       "    }\n",
       "</style>\n",
       "<table border=\"1\" class=\"dataframe\">\n",
       "  <thead>\n",
       "    <tr style=\"text-align: right;\">\n",
       "      <th></th>\n",
       "      <th>x</th>\n",
       "      <th>x_plus_2</th>\n",
       "    </tr>\n",
       "  </thead>\n",
       "  <tbody>\n",
       "    <tr>\n",
       "      <th>0</th>\n",
       "      <td>1</td>\n",
       "      <td>3</td>\n",
       "    </tr>\n",
       "    <tr>\n",
       "      <th>1</th>\n",
       "      <td>2</td>\n",
       "      <td>4</td>\n",
       "    </tr>\n",
       "    <tr>\n",
       "      <th>2</th>\n",
       "      <td>3</td>\n",
       "      <td>5</td>\n",
       "    </tr>\n",
       "    <tr>\n",
       "      <th>3</th>\n",
       "      <td>4</td>\n",
       "      <td>6</td>\n",
       "    </tr>\n",
       "    <tr>\n",
       "      <th>4</th>\n",
       "      <td>5</td>\n",
       "      <td>7</td>\n",
       "    </tr>\n",
       "    <tr>\n",
       "      <th>5</th>\n",
       "      <td>6</td>\n",
       "      <td>8</td>\n",
       "    </tr>\n",
       "    <tr>\n",
       "      <th>6</th>\n",
       "      <td>7</td>\n",
       "      <td>9</td>\n",
       "    </tr>\n",
       "    <tr>\n",
       "      <th>7</th>\n",
       "      <td>8</td>\n",
       "      <td>10</td>\n",
       "    </tr>\n",
       "    <tr>\n",
       "      <th>8</th>\n",
       "      <td>9</td>\n",
       "      <td>11</td>\n",
       "    </tr>\n",
       "  </tbody>\n",
       "</table>\n",
       "</div>"
      ],
      "text/plain": [
       "   x  x_plus_2\n",
       "0  1         3\n",
       "1  2         4\n",
       "2  3         5\n",
       "3  4         6\n",
       "4  5         7\n",
       "5  6         8\n",
       "6  7         9\n",
       "7  8        10\n",
       "8  9        11"
      ]
     },
     "execution_count": 25,
     "metadata": {},
     "output_type": "execute_result"
    }
   ],
   "source": [
    "df[\"x_plus_2\"] = df[\"x\"] + 2\n",
    "df"
   ]
  },
  {
   "cell_type": "code",
   "execution_count": 26,
   "metadata": {
    "collapsed": false
   },
   "outputs": [
    {
     "data": {
      "text/html": [
       "<div>\n",
       "<style scoped>\n",
       "    .dataframe tbody tr th:only-of-type {\n",
       "        vertical-align: middle;\n",
       "    }\n",
       "\n",
       "    .dataframe tbody tr th {\n",
       "        vertical-align: top;\n",
       "    }\n",
       "\n",
       "    .dataframe thead th {\n",
       "        text-align: right;\n",
       "    }\n",
       "</style>\n",
       "<table border=\"1\" class=\"dataframe\">\n",
       "  <thead>\n",
       "    <tr style=\"text-align: right;\">\n",
       "      <th></th>\n",
       "      <th>x</th>\n",
       "      <th>x_plus_2</th>\n",
       "      <th>x_square</th>\n",
       "      <th>x_factorial</th>\n",
       "    </tr>\n",
       "  </thead>\n",
       "  <tbody>\n",
       "    <tr>\n",
       "      <th>0</th>\n",
       "      <td>1</td>\n",
       "      <td>3</td>\n",
       "      <td>1</td>\n",
       "      <td>1</td>\n",
       "    </tr>\n",
       "    <tr>\n",
       "      <th>1</th>\n",
       "      <td>2</td>\n",
       "      <td>4</td>\n",
       "      <td>4</td>\n",
       "      <td>2</td>\n",
       "    </tr>\n",
       "    <tr>\n",
       "      <th>2</th>\n",
       "      <td>3</td>\n",
       "      <td>5</td>\n",
       "      <td>9</td>\n",
       "      <td>6</td>\n",
       "    </tr>\n",
       "    <tr>\n",
       "      <th>3</th>\n",
       "      <td>4</td>\n",
       "      <td>6</td>\n",
       "      <td>16</td>\n",
       "      <td>24</td>\n",
       "    </tr>\n",
       "    <tr>\n",
       "      <th>4</th>\n",
       "      <td>5</td>\n",
       "      <td>7</td>\n",
       "      <td>25</td>\n",
       "      <td>120</td>\n",
       "    </tr>\n",
       "    <tr>\n",
       "      <th>5</th>\n",
       "      <td>6</td>\n",
       "      <td>8</td>\n",
       "      <td>36</td>\n",
       "      <td>720</td>\n",
       "    </tr>\n",
       "    <tr>\n",
       "      <th>6</th>\n",
       "      <td>7</td>\n",
       "      <td>9</td>\n",
       "      <td>49</td>\n",
       "      <td>5040</td>\n",
       "    </tr>\n",
       "    <tr>\n",
       "      <th>7</th>\n",
       "      <td>8</td>\n",
       "      <td>10</td>\n",
       "      <td>64</td>\n",
       "      <td>40320</td>\n",
       "    </tr>\n",
       "    <tr>\n",
       "      <th>8</th>\n",
       "      <td>9</td>\n",
       "      <td>11</td>\n",
       "      <td>81</td>\n",
       "      <td>362880</td>\n",
       "    </tr>\n",
       "  </tbody>\n",
       "</table>\n",
       "</div>"
      ],
      "text/plain": [
       "   x  x_plus_2  x_square  x_factorial\n",
       "0  1         3         1            1\n",
       "1  2         4         4            2\n",
       "2  3         5         9            6\n",
       "3  4         6        16           24\n",
       "4  5         7        25          120\n",
       "5  6         8        36          720\n",
       "6  7         9        49         5040\n",
       "7  8        10        64        40320\n",
       "8  9        11        81       362880"
      ]
     },
     "execution_count": 26,
     "metadata": {},
     "output_type": "execute_result"
    }
   ],
   "source": [
    "df[\"x_square\"] = df[\"x\"] ** 2\n",
    "df[\"x_factorial\"] = df[\"x\"].apply(np.math.factorial)\n",
    "df"
   ]
  },
  {
   "cell_type": "code",
   "execution_count": 27,
   "metadata": {
    "collapsed": false
   },
   "outputs": [
    {
     "data": {
      "text/html": [
       "<div>\n",
       "<style scoped>\n",
       "    .dataframe tbody tr th:only-of-type {\n",
       "        vertical-align: middle;\n",
       "    }\n",
       "\n",
       "    .dataframe tbody tr th {\n",
       "        vertical-align: top;\n",
       "    }\n",
       "\n",
       "    .dataframe thead th {\n",
       "        text-align: right;\n",
       "    }\n",
       "</style>\n",
       "<table border=\"1\" class=\"dataframe\">\n",
       "  <thead>\n",
       "    <tr style=\"text-align: right;\">\n",
       "      <th></th>\n",
       "      <th>x</th>\n",
       "      <th>x_plus_2</th>\n",
       "      <th>x_square</th>\n",
       "      <th>x_factorial</th>\n",
       "      <th>is_even</th>\n",
       "    </tr>\n",
       "  </thead>\n",
       "  <tbody>\n",
       "    <tr>\n",
       "      <th>0</th>\n",
       "      <td>1</td>\n",
       "      <td>3</td>\n",
       "      <td>1</td>\n",
       "      <td>1</td>\n",
       "      <td>1</td>\n",
       "    </tr>\n",
       "    <tr>\n",
       "      <th>1</th>\n",
       "      <td>2</td>\n",
       "      <td>4</td>\n",
       "      <td>4</td>\n",
       "      <td>2</td>\n",
       "      <td>0</td>\n",
       "    </tr>\n",
       "    <tr>\n",
       "      <th>2</th>\n",
       "      <td>3</td>\n",
       "      <td>5</td>\n",
       "      <td>9</td>\n",
       "      <td>6</td>\n",
       "      <td>1</td>\n",
       "    </tr>\n",
       "    <tr>\n",
       "      <th>3</th>\n",
       "      <td>4</td>\n",
       "      <td>6</td>\n",
       "      <td>16</td>\n",
       "      <td>24</td>\n",
       "      <td>0</td>\n",
       "    </tr>\n",
       "    <tr>\n",
       "      <th>4</th>\n",
       "      <td>5</td>\n",
       "      <td>7</td>\n",
       "      <td>25</td>\n",
       "      <td>120</td>\n",
       "      <td>1</td>\n",
       "    </tr>\n",
       "    <tr>\n",
       "      <th>5</th>\n",
       "      <td>6</td>\n",
       "      <td>8</td>\n",
       "      <td>36</td>\n",
       "      <td>720</td>\n",
       "      <td>0</td>\n",
       "    </tr>\n",
       "    <tr>\n",
       "      <th>6</th>\n",
       "      <td>7</td>\n",
       "      <td>9</td>\n",
       "      <td>49</td>\n",
       "      <td>5040</td>\n",
       "      <td>1</td>\n",
       "    </tr>\n",
       "    <tr>\n",
       "      <th>7</th>\n",
       "      <td>8</td>\n",
       "      <td>10</td>\n",
       "      <td>64</td>\n",
       "      <td>40320</td>\n",
       "      <td>0</td>\n",
       "    </tr>\n",
       "    <tr>\n",
       "      <th>8</th>\n",
       "      <td>9</td>\n",
       "      <td>11</td>\n",
       "      <td>81</td>\n",
       "      <td>362880</td>\n",
       "      <td>1</td>\n",
       "    </tr>\n",
       "  </tbody>\n",
       "</table>\n",
       "</div>"
      ],
      "text/plain": [
       "   x  x_plus_2  x_square  x_factorial  is_even\n",
       "0  1         3         1            1        1\n",
       "1  2         4         4            2        0\n",
       "2  3         5         9            6        1\n",
       "3  4         6        16           24        0\n",
       "4  5         7        25          120        1\n",
       "5  6         8        36          720        0\n",
       "6  7         9        49         5040        1\n",
       "7  8        10        64        40320        0\n",
       "8  9        11        81       362880        1"
      ]
     },
     "execution_count": 27,
     "metadata": {},
     "output_type": "execute_result"
    }
   ],
   "source": [
    "df[\"is_even\"] = df[\"x\"] % 2\n",
    "df"
   ]
  },
  {
   "cell_type": "markdown",
   "metadata": {},
   "source": [
    "### `map()`函数的使用"
   ]
  },
  {
   "cell_type": "code",
   "execution_count": 28,
   "metadata": {
    "collapsed": false
   },
   "outputs": [
    {
     "data": {
      "text/html": [
       "<div>\n",
       "<style scoped>\n",
       "    .dataframe tbody tr th:only-of-type {\n",
       "        vertical-align: middle;\n",
       "    }\n",
       "\n",
       "    .dataframe tbody tr th {\n",
       "        vertical-align: top;\n",
       "    }\n",
       "\n",
       "    .dataframe thead th {\n",
       "        text-align: right;\n",
       "    }\n",
       "</style>\n",
       "<table border=\"1\" class=\"dataframe\">\n",
       "  <thead>\n",
       "    <tr style=\"text-align: right;\">\n",
       "      <th></th>\n",
       "      <th>x</th>\n",
       "      <th>x_plus_2</th>\n",
       "      <th>x_square</th>\n",
       "      <th>x_factorial</th>\n",
       "      <th>is_even</th>\n",
       "      <th>odd_even</th>\n",
       "    </tr>\n",
       "  </thead>\n",
       "  <tbody>\n",
       "    <tr>\n",
       "      <th>0</th>\n",
       "      <td>1</td>\n",
       "      <td>3</td>\n",
       "      <td>1</td>\n",
       "      <td>1</td>\n",
       "      <td>1</td>\n",
       "      <td>odd</td>\n",
       "    </tr>\n",
       "    <tr>\n",
       "      <th>1</th>\n",
       "      <td>2</td>\n",
       "      <td>4</td>\n",
       "      <td>4</td>\n",
       "      <td>2</td>\n",
       "      <td>0</td>\n",
       "      <td>even</td>\n",
       "    </tr>\n",
       "    <tr>\n",
       "      <th>2</th>\n",
       "      <td>3</td>\n",
       "      <td>5</td>\n",
       "      <td>9</td>\n",
       "      <td>6</td>\n",
       "      <td>1</td>\n",
       "      <td>odd</td>\n",
       "    </tr>\n",
       "    <tr>\n",
       "      <th>3</th>\n",
       "      <td>4</td>\n",
       "      <td>6</td>\n",
       "      <td>16</td>\n",
       "      <td>24</td>\n",
       "      <td>0</td>\n",
       "      <td>even</td>\n",
       "    </tr>\n",
       "    <tr>\n",
       "      <th>4</th>\n",
       "      <td>5</td>\n",
       "      <td>7</td>\n",
       "      <td>25</td>\n",
       "      <td>120</td>\n",
       "      <td>1</td>\n",
       "      <td>odd</td>\n",
       "    </tr>\n",
       "    <tr>\n",
       "      <th>5</th>\n",
       "      <td>6</td>\n",
       "      <td>8</td>\n",
       "      <td>36</td>\n",
       "      <td>720</td>\n",
       "      <td>0</td>\n",
       "      <td>even</td>\n",
       "    </tr>\n",
       "    <tr>\n",
       "      <th>6</th>\n",
       "      <td>7</td>\n",
       "      <td>9</td>\n",
       "      <td>49</td>\n",
       "      <td>5040</td>\n",
       "      <td>1</td>\n",
       "      <td>odd</td>\n",
       "    </tr>\n",
       "    <tr>\n",
       "      <th>7</th>\n",
       "      <td>8</td>\n",
       "      <td>10</td>\n",
       "      <td>64</td>\n",
       "      <td>40320</td>\n",
       "      <td>0</td>\n",
       "      <td>even</td>\n",
       "    </tr>\n",
       "    <tr>\n",
       "      <th>8</th>\n",
       "      <td>9</td>\n",
       "      <td>11</td>\n",
       "      <td>81</td>\n",
       "      <td>362880</td>\n",
       "      <td>1</td>\n",
       "      <td>odd</td>\n",
       "    </tr>\n",
       "  </tbody>\n",
       "</table>\n",
       "</div>"
      ],
      "text/plain": [
       "   x  x_plus_2  x_square  x_factorial  is_even odd_even\n",
       "0  1         3         1            1        1      odd\n",
       "1  2         4         4            2        0     even\n",
       "2  3         5         9            6        1      odd\n",
       "3  4         6        16           24        0     even\n",
       "4  5         7        25          120        1      odd\n",
       "5  6         8        36          720        0     even\n",
       "6  7         9        49         5040        1      odd\n",
       "7  8        10        64        40320        0     even\n",
       "8  9        11        81       362880        1      odd"
      ]
     },
     "execution_count": 28,
     "metadata": {},
     "output_type": "execute_result"
    }
   ],
   "source": [
    "df[\"odd_even\"] = df[\"is_even\"].map({1:\"odd\", 0:\"even\"})\n",
    "df\n",
    "#有人认为pandas中最核心、最经典的函数是apply  map   applymap，这三个函数是pandas里面数据变换的核心  避免了for循环"
   ]
  },
  {
   "cell_type": "markdown",
   "metadata": {},
   "source": [
    "### `drop()`删除数据"
   ]
  },
  {
   "cell_type": "code",
   "execution_count": 29,
   "metadata": {
    "collapsed": false
   },
   "outputs": [
    {
     "data": {
      "text/html": [
       "<div>\n",
       "<style scoped>\n",
       "    .dataframe tbody tr th:only-of-type {\n",
       "        vertical-align: middle;\n",
       "    }\n",
       "\n",
       "    .dataframe tbody tr th {\n",
       "        vertical-align: top;\n",
       "    }\n",
       "\n",
       "    .dataframe thead th {\n",
       "        text-align: right;\n",
       "    }\n",
       "</style>\n",
       "<table border=\"1\" class=\"dataframe\">\n",
       "  <thead>\n",
       "    <tr style=\"text-align: right;\">\n",
       "      <th></th>\n",
       "      <th>x</th>\n",
       "      <th>x_plus_2</th>\n",
       "      <th>x_square</th>\n",
       "      <th>x_factorial</th>\n",
       "      <th>odd_even</th>\n",
       "    </tr>\n",
       "  </thead>\n",
       "  <tbody>\n",
       "    <tr>\n",
       "      <th>0</th>\n",
       "      <td>1</td>\n",
       "      <td>3</td>\n",
       "      <td>1</td>\n",
       "      <td>1</td>\n",
       "      <td>odd</td>\n",
       "    </tr>\n",
       "    <tr>\n",
       "      <th>1</th>\n",
       "      <td>2</td>\n",
       "      <td>4</td>\n",
       "      <td>4</td>\n",
       "      <td>2</td>\n",
       "      <td>even</td>\n",
       "    </tr>\n",
       "    <tr>\n",
       "      <th>2</th>\n",
       "      <td>3</td>\n",
       "      <td>5</td>\n",
       "      <td>9</td>\n",
       "      <td>6</td>\n",
       "      <td>odd</td>\n",
       "    </tr>\n",
       "    <tr>\n",
       "      <th>3</th>\n",
       "      <td>4</td>\n",
       "      <td>6</td>\n",
       "      <td>16</td>\n",
       "      <td>24</td>\n",
       "      <td>even</td>\n",
       "    </tr>\n",
       "    <tr>\n",
       "      <th>4</th>\n",
       "      <td>5</td>\n",
       "      <td>7</td>\n",
       "      <td>25</td>\n",
       "      <td>120</td>\n",
       "      <td>odd</td>\n",
       "    </tr>\n",
       "    <tr>\n",
       "      <th>5</th>\n",
       "      <td>6</td>\n",
       "      <td>8</td>\n",
       "      <td>36</td>\n",
       "      <td>720</td>\n",
       "      <td>even</td>\n",
       "    </tr>\n",
       "    <tr>\n",
       "      <th>6</th>\n",
       "      <td>7</td>\n",
       "      <td>9</td>\n",
       "      <td>49</td>\n",
       "      <td>5040</td>\n",
       "      <td>odd</td>\n",
       "    </tr>\n",
       "    <tr>\n",
       "      <th>7</th>\n",
       "      <td>8</td>\n",
       "      <td>10</td>\n",
       "      <td>64</td>\n",
       "      <td>40320</td>\n",
       "      <td>even</td>\n",
       "    </tr>\n",
       "    <tr>\n",
       "      <th>8</th>\n",
       "      <td>9</td>\n",
       "      <td>11</td>\n",
       "      <td>81</td>\n",
       "      <td>362880</td>\n",
       "      <td>odd</td>\n",
       "    </tr>\n",
       "  </tbody>\n",
       "</table>\n",
       "</div>"
      ],
      "text/plain": [
       "   x  x_plus_2  x_square  x_factorial odd_even\n",
       "0  1         3         1            1      odd\n",
       "1  2         4         4            2     even\n",
       "2  3         5         9            6      odd\n",
       "3  4         6        16           24     even\n",
       "4  5         7        25          120      odd\n",
       "5  6         8        36          720     even\n",
       "6  7         9        49         5040      odd\n",
       "7  8        10        64        40320     even\n",
       "8  9        11        81       362880      odd"
      ]
     },
     "execution_count": 29,
     "metadata": {},
     "output_type": "execute_result"
    }
   ],
   "source": [
    "df = df.drop(\"is_even\", 1)  #删除1列\n",
    "df"
   ]
  },
  {
   "cell_type": "markdown",
   "metadata": {},
   "source": [
    "## 选择多列"
   ]
  },
  {
   "cell_type": "code",
   "execution_count": 30,
   "metadata": {
    "collapsed": false
   },
   "outputs": [
    {
     "data": {
      "text/html": [
       "<div>\n",
       "<style scoped>\n",
       "    .dataframe tbody tr th:only-of-type {\n",
       "        vertical-align: middle;\n",
       "    }\n",
       "\n",
       "    .dataframe tbody tr th {\n",
       "        vertical-align: top;\n",
       "    }\n",
       "\n",
       "    .dataframe thead th {\n",
       "        text-align: right;\n",
       "    }\n",
       "</style>\n",
       "<table border=\"1\" class=\"dataframe\">\n",
       "  <thead>\n",
       "    <tr style=\"text-align: right;\">\n",
       "      <th></th>\n",
       "      <th>x</th>\n",
       "      <th>x_square</th>\n",
       "    </tr>\n",
       "  </thead>\n",
       "  <tbody>\n",
       "    <tr>\n",
       "      <th>0</th>\n",
       "      <td>1</td>\n",
       "      <td>1</td>\n",
       "    </tr>\n",
       "    <tr>\n",
       "      <th>1</th>\n",
       "      <td>2</td>\n",
       "      <td>4</td>\n",
       "    </tr>\n",
       "    <tr>\n",
       "      <th>2</th>\n",
       "      <td>3</td>\n",
       "      <td>9</td>\n",
       "    </tr>\n",
       "    <tr>\n",
       "      <th>3</th>\n",
       "      <td>4</td>\n",
       "      <td>16</td>\n",
       "    </tr>\n",
       "    <tr>\n",
       "      <th>4</th>\n",
       "      <td>5</td>\n",
       "      <td>25</td>\n",
       "    </tr>\n",
       "    <tr>\n",
       "      <th>5</th>\n",
       "      <td>6</td>\n",
       "      <td>36</td>\n",
       "    </tr>\n",
       "    <tr>\n",
       "      <th>6</th>\n",
       "      <td>7</td>\n",
       "      <td>49</td>\n",
       "    </tr>\n",
       "    <tr>\n",
       "      <th>7</th>\n",
       "      <td>8</td>\n",
       "      <td>64</td>\n",
       "    </tr>\n",
       "    <tr>\n",
       "      <th>8</th>\n",
       "      <td>9</td>\n",
       "      <td>81</td>\n",
       "    </tr>\n",
       "  </tbody>\n",
       "</table>\n",
       "</div>"
      ],
      "text/plain": [
       "   x  x_square\n",
       "0  1         1\n",
       "1  2         4\n",
       "2  3         9\n",
       "3  4        16\n",
       "4  5        25\n",
       "5  6        36\n",
       "6  7        49\n",
       "7  8        64\n",
       "8  9        81"
      ]
     },
     "execution_count": 30,
     "metadata": {},
     "output_type": "execute_result"
    }
   ],
   "source": [
    "df[[\"x\", \"x_square\"]]"
   ]
  },
  {
   "cell_type": "markdown",
   "metadata": {},
   "source": [
    "## 控制显示选项"
   ]
  },
  {
   "cell_type": "code",
   "execution_count": 31,
   "metadata": {
    "collapsed": false
   },
   "outputs": [
    {
     "data": {
      "text/plain": [
       "    x  x_plus_2  x_square  x_factorial odd_even\n",
       "0   1         3         1            1      odd\n",
       "1   2         4         4            2     even\n",
       "2   3         5         9            6      odd\n",
       ".. ..       ...       ...          ...      ...\n",
       "6   7         9        49         5040      odd\n",
       "7   8        10        64        40320     even\n",
       "8   9        11        81       362880      odd\n",
       "\n",
       "[9 rows x 5 columns]"
      ]
     },
     "execution_count": 31,
     "metadata": {},
     "output_type": "execute_result"
    }
   ],
   "source": [
    "pd.options.display.max_columns= 60\n",
    "pd.options.display.max_rows= 6\n",
    "pd.options.display.notebook_repr_html = False\n",
    "df"
   ]
  },
  {
   "cell_type": "markdown",
   "metadata": {},
   "source": [
    "## 筛选数据"
   ]
  },
  {
   "cell_type": "code",
   "execution_count": 32,
   "metadata": {
    "collapsed": false
   },
   "outputs": [
    {
     "data": {
      "text/plain": [
       "   x  x_plus_2  x_square  x_factorial odd_even\n",
       "3  4         6        16           24     even\n",
       "4  5         7        25          120      odd\n",
       "5  6         8        36          720     even\n",
       "6  7         9        49         5040      odd\n",
       "7  8        10        64        40320     even\n",
       "8  9        11        81       362880      odd"
      ]
     },
     "execution_count": 32,
     "metadata": {},
     "output_type": "execute_result"
    }
   ],
   "source": [
    "df[df[\"x\"] >3]"
   ]
  },
  {
   "cell_type": "code",
   "execution_count": 33,
   "metadata": {
    "collapsed": false
   },
   "outputs": [
    {
     "data": {
      "text/plain": [
       "   x  x_plus_2  x_square  x_factorial odd_even\n",
       "1  2         4         4            2     even\n",
       "3  4         6        16           24     even\n",
       "5  6         8        36          720     even\n",
       "7  8        10        64        40320     even"
      ]
     },
     "execution_count": 33,
     "metadata": {},
     "output_type": "execute_result"
    }
   ],
   "source": [
    "df[df.odd_even == \"even\"]"
   ]
  },
  {
   "cell_type": "markdown",
   "metadata": {},
   "source": [
    "### 组合筛选"
   ]
  },
  {
   "cell_type": "markdown",
   "metadata": {},
   "source": [
    "#### `|` OR"
   ]
  },
  {
   "cell_type": "code",
   "execution_count": 39,
   "metadata": {
    "collapsed": false
   },
   "outputs": [
    {
     "data": {
      "text/plain": [
       "   x  x_plus_2  x_square  x_factorial odd_even\n",
       "0  1         3         1            1      odd\n",
       "1  2         4         4            2     even\n",
       "2  3         5         9            6      odd\n",
       "3  4         6        16           24     even\n",
       "5  6         8        36          720     even\n",
       "7  8        10        64        40320     even"
      ]
     },
     "execution_count": 39,
     "metadata": {},
     "output_type": "execute_result"
    }
   ],
   "source": [
    "df[(df.odd_even == \"even\") | (df.x_square < 20)]"
   ]
  },
  {
   "cell_type": "markdown",
   "metadata": {},
   "source": [
    "#### `&` AND"
   ]
  },
  {
   "cell_type": "code",
   "execution_count": 40,
   "metadata": {
    "collapsed": false
   },
   "outputs": [
    {
     "data": {
      "text/plain": [
       "   x  x_plus_2  x_square  x_factorial odd_even\n",
       "1  2         4         4            2     even\n",
       "3  4         6        16           24     even"
      ]
     },
     "execution_count": 40,
     "metadata": {},
     "output_type": "execute_result"
    }
   ],
   "source": [
    "df[(df.odd_even == \"even\") & (df.x_square < 20)]"
   ]
  },
  {
   "cell_type": "markdown",
   "metadata": {},
   "source": [
    "### 更深的组合筛选"
   ]
  },
  {
   "cell_type": "code",
   "execution_count": 34,
   "metadata": {
    "collapsed": false
   },
   "outputs": [
    {
     "data": {
      "text/plain": [
       "1    4\n",
       "Name: x_plus_2, dtype: int64"
      ]
     },
     "execution_count": 34,
     "metadata": {},
     "output_type": "execute_result"
    }
   ],
   "source": [
    "df[(df.odd_even == \"even\") & (df.x_square < 20)][\"x_plus_2\"][:1]"
   ]
  },
  {
   "cell_type": "code",
   "execution_count": 35,
   "metadata": {
    "collapsed": false
   },
   "outputs": [
    {
     "data": {
      "text/plain": [
       "              x   x_plus_2   x_square    x_factorial\n",
       "count  9.000000   9.000000   9.000000       9.000000\n",
       "mean   5.000000   7.000000  31.666667   45457.000000\n",
       "std    2.738613   2.738613  28.080242  119758.341137\n",
       "...         ...        ...        ...            ...\n",
       "50%    5.000000   7.000000  25.000000     120.000000\n",
       "75%    7.000000   9.000000  49.000000    5040.000000\n",
       "max    9.000000  11.000000  81.000000  362880.000000\n",
       "\n",
       "[8 rows x 4 columns]"
      ]
     },
     "execution_count": 35,
     "metadata": {},
     "output_type": "execute_result"
    }
   ],
   "source": [
    "df.describe()"
   ]
  },
  {
   "cell_type": "markdown",
   "metadata": {},
   "source": [
    "## 从 CSV/TSV 文件中读取数据"
   ]
  },
  {
   "cell_type": "code",
   "execution_count": 13,
   "metadata": {
    "collapsed": false
   },
   "outputs": [],
   "source": [
    "url = \"data/2014_indian_elections_results.csv\"\n",
    "elections_data = pd.read_csv(url)"
   ]
  },
  {
   "cell_type": "code",
   "execution_count": 14,
   "metadata": {
    "collapsed": false
   },
   "outputs": [
    {
     "data": {
      "text/html": [
       "<div>\n",
       "<style scoped>\n",
       "    .dataframe tbody tr th:only-of-type {\n",
       "        vertical-align: middle;\n",
       "    }\n",
       "\n",
       "    .dataframe tbody tr th {\n",
       "        vertical-align: top;\n",
       "    }\n",
       "\n",
       "    .dataframe thead th {\n",
       "        text-align: right;\n",
       "    }\n",
       "</style>\n",
       "<table border=\"1\" class=\"dataframe\">\n",
       "  <thead>\n",
       "    <tr style=\"text-align: right;\">\n",
       "      <th></th>\n",
       "      <th>Name of State/ UT</th>\n",
       "      <th>Parliamentary Constituency</th>\n",
       "      <th>Candidate Name</th>\n",
       "      <th>Total Votes Polled</th>\n",
       "      <th>Winner or Not?</th>\n",
       "      <th>Party Abbreviation</th>\n",
       "      <th>Party Name</th>\n",
       "    </tr>\n",
       "  </thead>\n",
       "  <tbody>\n",
       "    <tr>\n",
       "      <th>0</th>\n",
       "      <td>Andhra Pradesh</td>\n",
       "      <td>Adilabad</td>\n",
       "      <td>GODAM NAGESH</td>\n",
       "      <td>430847</td>\n",
       "      <td>yes</td>\n",
       "      <td>TRS</td>\n",
       "      <td>Telangana Rashtra Samithi</td>\n",
       "    </tr>\n",
       "    <tr>\n",
       "      <th>1</th>\n",
       "      <td>Andhra Pradesh</td>\n",
       "      <td>Adilabad</td>\n",
       "      <td>NETHAWATH RAMDAS</td>\n",
       "      <td>41032</td>\n",
       "      <td>no</td>\n",
       "      <td>IND</td>\n",
       "      <td>Independent</td>\n",
       "    </tr>\n",
       "    <tr>\n",
       "      <th>2</th>\n",
       "      <td>Andhra Pradesh</td>\n",
       "      <td>Adilabad</td>\n",
       "      <td>RAMESH RATHOD</td>\n",
       "      <td>184198</td>\n",
       "      <td>no</td>\n",
       "      <td>TDP</td>\n",
       "      <td>Telugu Desam</td>\n",
       "    </tr>\n",
       "    <tr>\n",
       "      <th>3</th>\n",
       "      <td>Andhra Pradesh</td>\n",
       "      <td>Adilabad</td>\n",
       "      <td>RATHOD SADASHIV</td>\n",
       "      <td>94420</td>\n",
       "      <td>no</td>\n",
       "      <td>BSP</td>\n",
       "      <td>Bahujan Samaj Party</td>\n",
       "    </tr>\n",
       "    <tr>\n",
       "      <th>4</th>\n",
       "      <td>Andhra Pradesh</td>\n",
       "      <td>Adilabad</td>\n",
       "      <td>MOSALI CHINNAIAH</td>\n",
       "      <td>8859</td>\n",
       "      <td>no</td>\n",
       "      <td>IND</td>\n",
       "      <td>Independent</td>\n",
       "    </tr>\n",
       "    <tr>\n",
       "      <th>5</th>\n",
       "      <td>Andhra Pradesh</td>\n",
       "      <td>Adilabad</td>\n",
       "      <td>NARESH</td>\n",
       "      <td>259557</td>\n",
       "      <td>no</td>\n",
       "      <td>INC</td>\n",
       "      <td>Indian National Congress</td>\n",
       "    </tr>\n",
       "    <tr>\n",
       "      <th>6</th>\n",
       "      <td>Andhra Pradesh</td>\n",
       "      <td>Adilabad</td>\n",
       "      <td>PAWAR KRISHNA</td>\n",
       "      <td>5055</td>\n",
       "      <td>no</td>\n",
       "      <td>IND</td>\n",
       "      <td>Independent</td>\n",
       "    </tr>\n",
       "    <tr>\n",
       "      <th>7</th>\n",
       "      <td>Andhra Pradesh</td>\n",
       "      <td>Adilabad</td>\n",
       "      <td>BANKA SAHADEV</td>\n",
       "      <td>4787</td>\n",
       "      <td>no</td>\n",
       "      <td>IND</td>\n",
       "      <td>Independent</td>\n",
       "    </tr>\n",
       "    <tr>\n",
       "      <th>8</th>\n",
       "      <td>Andhra Pradesh</td>\n",
       "      <td>Adilabad</td>\n",
       "      <td>None of the Above</td>\n",
       "      <td>17084</td>\n",
       "      <td>no</td>\n",
       "      <td>NOTA</td>\n",
       "      <td>None of the Above</td>\n",
       "    </tr>\n",
       "    <tr>\n",
       "      <th>9</th>\n",
       "      <td>Andhra Pradesh</td>\n",
       "      <td>Peddapalle</td>\n",
       "      <td>BALKA SUMAN</td>\n",
       "      <td>565496</td>\n",
       "      <td>yes</td>\n",
       "      <td>TRS</td>\n",
       "      <td>Telangana Rashtra Samithi</td>\n",
       "    </tr>\n",
       "    <tr>\n",
       "      <th>10</th>\n",
       "      <td>Andhra Pradesh</td>\n",
       "      <td>Peddapalle</td>\n",
       "      <td>None of the Above</td>\n",
       "      <td>5361</td>\n",
       "      <td>no</td>\n",
       "      <td>NOTA</td>\n",
       "      <td>None of the Above</td>\n",
       "    </tr>\n",
       "    <tr>\n",
       "      <th>11</th>\n",
       "      <td>Andhra Pradesh</td>\n",
       "      <td>Peddapalle</td>\n",
       "      <td>G. VIVEKANAND</td>\n",
       "      <td>274338</td>\n",
       "      <td>no</td>\n",
       "      <td>INC</td>\n",
       "      <td>Indian National Congress</td>\n",
       "    </tr>\n",
       "    <tr>\n",
       "      <th>12</th>\n",
       "      <td>Andhra Pradesh</td>\n",
       "      <td>Peddapalle</td>\n",
       "      <td>KALVALA SHANKAR</td>\n",
       "      <td>9290</td>\n",
       "      <td>no</td>\n",
       "      <td>PPOI</td>\n",
       "      <td>Pyramid Party of India</td>\n",
       "    </tr>\n",
       "    <tr>\n",
       "      <th>13</th>\n",
       "      <td>Andhra Pradesh</td>\n",
       "      <td>Peddapalle</td>\n",
       "      <td>MOUTAM RAVINDER</td>\n",
       "      <td>2674</td>\n",
       "      <td>no</td>\n",
       "      <td>IND</td>\n",
       "      <td>Independent</td>\n",
       "    </tr>\n",
       "    <tr>\n",
       "      <th>14</th>\n",
       "      <td>Andhra Pradesh</td>\n",
       "      <td>Peddapalle</td>\n",
       "      <td>VELTHURU MALLAIAH</td>\n",
       "      <td>45977</td>\n",
       "      <td>no</td>\n",
       "      <td>RP(K)</td>\n",
       "      <td>Republican Paksha (Khoripa)</td>\n",
       "    </tr>\n",
       "    <tr>\n",
       "      <th>15</th>\n",
       "      <td>Andhra Pradesh</td>\n",
       "      <td>Peddapalle</td>\n",
       "      <td>DR.JANAPATI SARAT BABU</td>\n",
       "      <td>63334</td>\n",
       "      <td>no</td>\n",
       "      <td>TDP</td>\n",
       "      <td>Telugu Desam</td>\n",
       "    </tr>\n",
       "    <tr>\n",
       "      <th>16</th>\n",
       "      <td>Andhra Pradesh</td>\n",
       "      <td>Peddapalle</td>\n",
       "      <td>KAMILLA JAYA RAO</td>\n",
       "      <td>2742</td>\n",
       "      <td>no</td>\n",
       "      <td>IND</td>\n",
       "      <td>Independent</td>\n",
       "    </tr>\n",
       "    <tr>\n",
       "      <th>17</th>\n",
       "      <td>Andhra Pradesh</td>\n",
       "      <td>Peddapalle</td>\n",
       "      <td>THALLAPALLI SRINIVAS</td>\n",
       "      <td>3699</td>\n",
       "      <td>no</td>\n",
       "      <td>IND</td>\n",
       "      <td>Independent</td>\n",
       "    </tr>\n",
       "    <tr>\n",
       "      <th>18</th>\n",
       "      <td>Andhra Pradesh</td>\n",
       "      <td>Peddapalle</td>\n",
       "      <td>VENKATA SWAMY INJAM</td>\n",
       "      <td>3866</td>\n",
       "      <td>no</td>\n",
       "      <td>MaSP</td>\n",
       "      <td>Mahajana Socialist Party</td>\n",
       "    </tr>\n",
       "    <tr>\n",
       "      <th>19</th>\n",
       "      <td>Andhra Pradesh</td>\n",
       "      <td>Peddapalle</td>\n",
       "      <td>GORRE RAMESH</td>\n",
       "      <td>2361</td>\n",
       "      <td>no</td>\n",
       "      <td>IND</td>\n",
       "      <td>Independent</td>\n",
       "    </tr>\n",
       "    <tr>\n",
       "      <th>20</th>\n",
       "      <td>Andhra Pradesh</td>\n",
       "      <td>Peddapalle</td>\n",
       "      <td>BUPELLI NARAYANA</td>\n",
       "      <td>7258</td>\n",
       "      <td>no</td>\n",
       "      <td>IND</td>\n",
       "      <td>Independent</td>\n",
       "    </tr>\n",
       "    <tr>\n",
       "      <th>21</th>\n",
       "      <td>Andhra Pradesh</td>\n",
       "      <td>Peddapalle</td>\n",
       "      <td>BOTHA VENKATA MALLAIAH</td>\n",
       "      <td>2245</td>\n",
       "      <td>no</td>\n",
       "      <td>BCUF</td>\n",
       "      <td>B. C. United Front</td>\n",
       "    </tr>\n",
       "    <tr>\n",
       "      <th>22</th>\n",
       "      <td>Andhra Pradesh</td>\n",
       "      <td>Peddapalle</td>\n",
       "      <td>JINNA RAMADEVI</td>\n",
       "      <td>9199</td>\n",
       "      <td>no</td>\n",
       "      <td>IND</td>\n",
       "      <td>Independent</td>\n",
       "    </tr>\n",
       "    <tr>\n",
       "      <th>23</th>\n",
       "      <td>Andhra Pradesh</td>\n",
       "      <td>Peddapalle</td>\n",
       "      <td>J.V. RAJU</td>\n",
       "      <td>3020</td>\n",
       "      <td>no</td>\n",
       "      <td>NIP</td>\n",
       "      <td>New India Party</td>\n",
       "    </tr>\n",
       "    <tr>\n",
       "      <th>24</th>\n",
       "      <td>Andhra Pradesh</td>\n",
       "      <td>Peddapalle</td>\n",
       "      <td>GADDALA VINAY KUMAR</td>\n",
       "      <td>3266</td>\n",
       "      <td>no</td>\n",
       "      <td>IND</td>\n",
       "      <td>Independent</td>\n",
       "    </tr>\n",
       "    <tr>\n",
       "      <th>25</th>\n",
       "      <td>Andhra Pradesh</td>\n",
       "      <td>Peddapalle</td>\n",
       "      <td>KALVALA SANJEEV</td>\n",
       "      <td>8609</td>\n",
       "      <td>no</td>\n",
       "      <td>RPI</td>\n",
       "      <td>Republican Party of India</td>\n",
       "    </tr>\n",
       "    <tr>\n",
       "      <th>26</th>\n",
       "      <td>Andhra Pradesh</td>\n",
       "      <td>Peddapalle</td>\n",
       "      <td>TAGARAM SHANKAR LAL</td>\n",
       "      <td>9449</td>\n",
       "      <td>no</td>\n",
       "      <td>BSP</td>\n",
       "      <td>Bahujan Samaj Party</td>\n",
       "    </tr>\n",
       "    <tr>\n",
       "      <th>27</th>\n",
       "      <td>Andhra Pradesh</td>\n",
       "      <td>Karimnagar</td>\n",
       "      <td>VINOD KUMAR BOINAPALLY</td>\n",
       "      <td>505783</td>\n",
       "      <td>yes</td>\n",
       "      <td>TRS</td>\n",
       "      <td>Telangana Rashtra Samithi</td>\n",
       "    </tr>\n",
       "    <tr>\n",
       "      <th>28</th>\n",
       "      <td>Andhra Pradesh</td>\n",
       "      <td>Karimnagar</td>\n",
       "      <td>SRINIVAS REDDY LINGAMPALLY</td>\n",
       "      <td>3865</td>\n",
       "      <td>no</td>\n",
       "      <td>IND</td>\n",
       "      <td>Independent</td>\n",
       "    </tr>\n",
       "    <tr>\n",
       "      <th>29</th>\n",
       "      <td>Andhra Pradesh</td>\n",
       "      <td>Karimnagar</td>\n",
       "      <td>RANAVENI LAKSHMAN</td>\n",
       "      <td>2062</td>\n",
       "      <td>no</td>\n",
       "      <td>NIP</td>\n",
       "      <td>New India Party</td>\n",
       "    </tr>\n",
       "    <tr>\n",
       "      <th>...</th>\n",
       "      <td>...</td>\n",
       "      <td>...</td>\n",
       "      <td>...</td>\n",
       "      <td>...</td>\n",
       "      <td>...</td>\n",
       "      <td>...</td>\n",
       "      <td>...</td>\n",
       "    </tr>\n",
       "    <tr>\n",
       "      <th>8764</th>\n",
       "      <td>Puducherry</td>\n",
       "      <td>Puducherry</td>\n",
       "      <td>G. PALANI</td>\n",
       "      <td>438</td>\n",
       "      <td>no</td>\n",
       "      <td>CPI(ML)(L)</td>\n",
       "      <td>Communist Party of India  (Marxist-Leninist)  ...</td>\n",
       "    </tr>\n",
       "    <tr>\n",
       "      <th>8765</th>\n",
       "      <td>Puducherry</td>\n",
       "      <td>Puducherry</td>\n",
       "      <td>M.V. OMALINGAM</td>\n",
       "      <td>132657</td>\n",
       "      <td>no</td>\n",
       "      <td>ADMK</td>\n",
       "      <td>All India Anna Dravida Munnetra Kazhagam</td>\n",
       "    </tr>\n",
       "    <tr>\n",
       "      <th>8766</th>\n",
       "      <td>Puducherry</td>\n",
       "      <td>Puducherry</td>\n",
       "      <td>PROFESSOR M. RAMADASS</td>\n",
       "      <td>2494</td>\n",
       "      <td>no</td>\n",
       "      <td>IND</td>\n",
       "      <td>Independent</td>\n",
       "    </tr>\n",
       "    <tr>\n",
       "      <th>8767</th>\n",
       "      <td>Puducherry</td>\n",
       "      <td>Puducherry</td>\n",
       "      <td>S. KRISHNAMOORTHY</td>\n",
       "      <td>2060</td>\n",
       "      <td>no</td>\n",
       "      <td>BSP</td>\n",
       "      <td>Bahujan Samaj Party</td>\n",
       "    </tr>\n",
       "    <tr>\n",
       "      <th>8768</th>\n",
       "      <td>Puducherry</td>\n",
       "      <td>Puducherry</td>\n",
       "      <td>G. SHANMUGAM</td>\n",
       "      <td>1726</td>\n",
       "      <td>no</td>\n",
       "      <td>IND</td>\n",
       "      <td>Independent</td>\n",
       "    </tr>\n",
       "    <tr>\n",
       "      <th>8769</th>\n",
       "      <td>Puducherry</td>\n",
       "      <td>Puducherry</td>\n",
       "      <td>DR. V. RANGARAJAN</td>\n",
       "      <td>8307</td>\n",
       "      <td>no</td>\n",
       "      <td>AAAP</td>\n",
       "      <td>Aam Aadmi Party</td>\n",
       "    </tr>\n",
       "    <tr>\n",
       "      <th>8770</th>\n",
       "      <td>Puducherry</td>\n",
       "      <td>Puducherry</td>\n",
       "      <td>S. EZHILARASAN</td>\n",
       "      <td>1777</td>\n",
       "      <td>no</td>\n",
       "      <td>IND</td>\n",
       "      <td>Independent</td>\n",
       "    </tr>\n",
       "    <tr>\n",
       "      <th>8771</th>\n",
       "      <td>Puducherry</td>\n",
       "      <td>Puducherry</td>\n",
       "      <td>M. CHITTIBABU</td>\n",
       "      <td>1340</td>\n",
       "      <td>no</td>\n",
       "      <td>IND</td>\n",
       "      <td>Independent</td>\n",
       "    </tr>\n",
       "    <tr>\n",
       "      <th>8772</th>\n",
       "      <td>Puducherry</td>\n",
       "      <td>Puducherry</td>\n",
       "      <td>I. SENTHIL KUMAR</td>\n",
       "      <td>477</td>\n",
       "      <td>no</td>\n",
       "      <td>IND</td>\n",
       "      <td>Independent</td>\n",
       "    </tr>\n",
       "    <tr>\n",
       "      <th>8773</th>\n",
       "      <td>Puducherry</td>\n",
       "      <td>Puducherry</td>\n",
       "      <td>SANJIVGANTHI .S</td>\n",
       "      <td>5896</td>\n",
       "      <td>no</td>\n",
       "      <td>IND</td>\n",
       "      <td>Independent</td>\n",
       "    </tr>\n",
       "    <tr>\n",
       "      <th>8774</th>\n",
       "      <td>Puducherry</td>\n",
       "      <td>Puducherry</td>\n",
       "      <td>K. MANJINI</td>\n",
       "      <td>767</td>\n",
       "      <td>no</td>\n",
       "      <td>IND</td>\n",
       "      <td>Independent</td>\n",
       "    </tr>\n",
       "    <tr>\n",
       "      <th>8775</th>\n",
       "      <td>Puducherry</td>\n",
       "      <td>Puducherry</td>\n",
       "      <td>K. RAMADASS</td>\n",
       "      <td>1236</td>\n",
       "      <td>no</td>\n",
       "      <td>IND</td>\n",
       "      <td>Independent</td>\n",
       "    </tr>\n",
       "    <tr>\n",
       "      <th>8776</th>\n",
       "      <td>Puducherry</td>\n",
       "      <td>Puducherry</td>\n",
       "      <td>R. VISWANATHAN</td>\n",
       "      <td>12709</td>\n",
       "      <td>no</td>\n",
       "      <td>CPI</td>\n",
       "      <td>Communist Party of India</td>\n",
       "    </tr>\n",
       "    <tr>\n",
       "      <th>8777</th>\n",
       "      <td>Puducherry</td>\n",
       "      <td>Puducherry</td>\n",
       "      <td>RAMAMURTHI</td>\n",
       "      <td>1442</td>\n",
       "      <td>no</td>\n",
       "      <td>IND</td>\n",
       "      <td>Independent</td>\n",
       "    </tr>\n",
       "    <tr>\n",
       "      <th>8778</th>\n",
       "      <td>Puducherry</td>\n",
       "      <td>Puducherry</td>\n",
       "      <td>P. BAKKIARAJ</td>\n",
       "      <td>610</td>\n",
       "      <td>no</td>\n",
       "      <td>IND</td>\n",
       "      <td>Independent</td>\n",
       "    </tr>\n",
       "    <tr>\n",
       "      <th>8779</th>\n",
       "      <td>Puducherry</td>\n",
       "      <td>Puducherry</td>\n",
       "      <td>P. DHANARASU @ MATHIMAHARAJA</td>\n",
       "      <td>198</td>\n",
       "      <td>no</td>\n",
       "      <td>IND</td>\n",
       "      <td>Independent</td>\n",
       "    </tr>\n",
       "    <tr>\n",
       "      <th>8780</th>\n",
       "      <td>Puducherry</td>\n",
       "      <td>Puducherry</td>\n",
       "      <td>None of the Above</td>\n",
       "      <td>22268</td>\n",
       "      <td>no</td>\n",
       "      <td>NOTA</td>\n",
       "      <td>None of the Above</td>\n",
       "    </tr>\n",
       "    <tr>\n",
       "      <th>8781</th>\n",
       "      <td>Puducherry</td>\n",
       "      <td>Puducherry</td>\n",
       "      <td>P. ASARAVEL</td>\n",
       "      <td>3472</td>\n",
       "      <td>no</td>\n",
       "      <td>IND</td>\n",
       "      <td>Independent</td>\n",
       "    </tr>\n",
       "    <tr>\n",
       "      <th>8782</th>\n",
       "      <td>Puducherry</td>\n",
       "      <td>Puducherry</td>\n",
       "      <td>R.K.R. ANANTHARAMAN</td>\n",
       "      <td>22754</td>\n",
       "      <td>no</td>\n",
       "      <td>PMK</td>\n",
       "      <td>Pattali Makkal Katchi</td>\n",
       "    </tr>\n",
       "    <tr>\n",
       "      <th>8783</th>\n",
       "      <td>Puducherry</td>\n",
       "      <td>Puducherry</td>\n",
       "      <td>S. SUDARSANAN</td>\n",
       "      <td>1270</td>\n",
       "      <td>no</td>\n",
       "      <td>IND</td>\n",
       "      <td>Independent</td>\n",
       "    </tr>\n",
       "    <tr>\n",
       "      <th>8784</th>\n",
       "      <td>Puducherry</td>\n",
       "      <td>Puducherry</td>\n",
       "      <td>V. NARAYANASAMY</td>\n",
       "      <td>194972</td>\n",
       "      <td>no</td>\n",
       "      <td>INC</td>\n",
       "      <td>Indian National Congress</td>\n",
       "    </tr>\n",
       "    <tr>\n",
       "      <th>8785</th>\n",
       "      <td>Puducherry</td>\n",
       "      <td>Puducherry</td>\n",
       "      <td>A.M.H. NAZEEM</td>\n",
       "      <td>60580</td>\n",
       "      <td>no</td>\n",
       "      <td>DMK</td>\n",
       "      <td>Dravida Munnetra Kazhagam</td>\n",
       "    </tr>\n",
       "    <tr>\n",
       "      <th>8786</th>\n",
       "      <td>Puducherry</td>\n",
       "      <td>Puducherry</td>\n",
       "      <td>MARIE UTHRIANATHAN</td>\n",
       "      <td>366</td>\n",
       "      <td>no</td>\n",
       "      <td>SAP</td>\n",
       "      <td>Samata Party</td>\n",
       "    </tr>\n",
       "    <tr>\n",
       "      <th>8787</th>\n",
       "      <td>Puducherry</td>\n",
       "      <td>Puducherry</td>\n",
       "      <td>S. CHITRAKALA</td>\n",
       "      <td>309</td>\n",
       "      <td>no</td>\n",
       "      <td>JD(U)</td>\n",
       "      <td>Janata Dal  (United)</td>\n",
       "    </tr>\n",
       "    <tr>\n",
       "      <th>8788</th>\n",
       "      <td>Puducherry</td>\n",
       "      <td>Puducherry</td>\n",
       "      <td>KALIAYAMURTHY</td>\n",
       "      <td>747</td>\n",
       "      <td>no</td>\n",
       "      <td>IND</td>\n",
       "      <td>Independent</td>\n",
       "    </tr>\n",
       "    <tr>\n",
       "      <th>8789</th>\n",
       "      <td>Puducherry</td>\n",
       "      <td>Puducherry</td>\n",
       "      <td>V. VIJAYA</td>\n",
       "      <td>746</td>\n",
       "      <td>no</td>\n",
       "      <td>IND</td>\n",
       "      <td>Independent</td>\n",
       "    </tr>\n",
       "    <tr>\n",
       "      <th>8790</th>\n",
       "      <td>Puducherry</td>\n",
       "      <td>Puducherry</td>\n",
       "      <td>R. VALAVAN</td>\n",
       "      <td>497</td>\n",
       "      <td>no</td>\n",
       "      <td>IND</td>\n",
       "      <td>Independent</td>\n",
       "    </tr>\n",
       "    <tr>\n",
       "      <th>8791</th>\n",
       "      <td>Puducherry</td>\n",
       "      <td>Puducherry</td>\n",
       "      <td>J. DHANDAPANI</td>\n",
       "      <td>1144</td>\n",
       "      <td>no</td>\n",
       "      <td>IND</td>\n",
       "      <td>Independent</td>\n",
       "    </tr>\n",
       "    <tr>\n",
       "      <th>8792</th>\n",
       "      <td>Puducherry</td>\n",
       "      <td>Puducherry</td>\n",
       "      <td>PUVALA NAGESWARA RAO</td>\n",
       "      <td>465</td>\n",
       "      <td>no</td>\n",
       "      <td>IND</td>\n",
       "      <td>Independent</td>\n",
       "    </tr>\n",
       "    <tr>\n",
       "      <th>8793</th>\n",
       "      <td>Puducherry</td>\n",
       "      <td>Puducherry</td>\n",
       "      <td>G. SUTHA</td>\n",
       "      <td>467</td>\n",
       "      <td>no</td>\n",
       "      <td>IND</td>\n",
       "      <td>Independent</td>\n",
       "    </tr>\n",
       "  </tbody>\n",
       "</table>\n",
       "<p>8794 rows × 7 columns</p>\n",
       "</div>"
      ],
      "text/plain": [
       "     Name of State/ UT Parliamentary Constituency  \\\n",
       "0       Andhra Pradesh                   Adilabad   \n",
       "1       Andhra Pradesh                   Adilabad   \n",
       "2       Andhra Pradesh                   Adilabad   \n",
       "3       Andhra Pradesh                   Adilabad   \n",
       "4       Andhra Pradesh                   Adilabad   \n",
       "5       Andhra Pradesh                   Adilabad   \n",
       "6       Andhra Pradesh                   Adilabad   \n",
       "7       Andhra Pradesh                   Adilabad   \n",
       "8       Andhra Pradesh                   Adilabad   \n",
       "9       Andhra Pradesh                 Peddapalle   \n",
       "10      Andhra Pradesh                 Peddapalle   \n",
       "11      Andhra Pradesh                 Peddapalle   \n",
       "12      Andhra Pradesh                 Peddapalle   \n",
       "13      Andhra Pradesh                 Peddapalle   \n",
       "14      Andhra Pradesh                 Peddapalle   \n",
       "15      Andhra Pradesh                 Peddapalle   \n",
       "16      Andhra Pradesh                 Peddapalle   \n",
       "17      Andhra Pradesh                 Peddapalle   \n",
       "18      Andhra Pradesh                 Peddapalle   \n",
       "19      Andhra Pradesh                 Peddapalle   \n",
       "20      Andhra Pradesh                 Peddapalle   \n",
       "21      Andhra Pradesh                 Peddapalle   \n",
       "22      Andhra Pradesh                 Peddapalle   \n",
       "23      Andhra Pradesh                 Peddapalle   \n",
       "24      Andhra Pradesh                 Peddapalle   \n",
       "25      Andhra Pradesh                 Peddapalle   \n",
       "26      Andhra Pradesh                 Peddapalle   \n",
       "27      Andhra Pradesh                 Karimnagar   \n",
       "28      Andhra Pradesh                 Karimnagar   \n",
       "29      Andhra Pradesh                 Karimnagar   \n",
       "...                ...                        ...   \n",
       "8764        Puducherry                 Puducherry   \n",
       "8765        Puducherry                 Puducherry   \n",
       "8766        Puducherry                 Puducherry   \n",
       "8767        Puducherry                 Puducherry   \n",
       "8768        Puducherry                 Puducherry   \n",
       "8769        Puducherry                 Puducherry   \n",
       "8770        Puducherry                 Puducherry   \n",
       "8771        Puducherry                 Puducherry   \n",
       "8772        Puducherry                 Puducherry   \n",
       "8773        Puducherry                 Puducherry   \n",
       "8774        Puducherry                 Puducherry   \n",
       "8775        Puducherry                 Puducherry   \n",
       "8776        Puducherry                 Puducherry   \n",
       "8777        Puducherry                 Puducherry   \n",
       "8778        Puducherry                 Puducherry   \n",
       "8779        Puducherry                 Puducherry   \n",
       "8780        Puducherry                 Puducherry   \n",
       "8781        Puducherry                 Puducherry   \n",
       "8782        Puducherry                 Puducherry   \n",
       "8783        Puducherry                 Puducherry   \n",
       "8784        Puducherry                 Puducherry   \n",
       "8785        Puducherry                 Puducherry   \n",
       "8786        Puducherry                 Puducherry   \n",
       "8787        Puducherry                 Puducherry   \n",
       "8788        Puducherry                 Puducherry   \n",
       "8789        Puducherry                 Puducherry   \n",
       "8790        Puducherry                 Puducherry   \n",
       "8791        Puducherry                 Puducherry   \n",
       "8792        Puducherry                 Puducherry   \n",
       "8793        Puducherry                 Puducherry   \n",
       "\n",
       "                    Candidate Name  Total Votes Polled Winner or Not?  \\\n",
       "0                     GODAM NAGESH              430847            yes   \n",
       "1                 NETHAWATH RAMDAS               41032             no   \n",
       "2                    RAMESH RATHOD              184198             no   \n",
       "3                  RATHOD SADASHIV               94420             no   \n",
       "4                 MOSALI CHINNAIAH                8859             no   \n",
       "5                           NARESH              259557             no   \n",
       "6                    PAWAR KRISHNA                5055             no   \n",
       "7                    BANKA SAHADEV                4787             no   \n",
       "8                None of the Above               17084             no   \n",
       "9                      BALKA SUMAN              565496            yes   \n",
       "10               None of the Above                5361             no   \n",
       "11                   G. VIVEKANAND              274338             no   \n",
       "12                 KALVALA SHANKAR                9290             no   \n",
       "13                 MOUTAM RAVINDER                2674             no   \n",
       "14               VELTHURU MALLAIAH               45977             no   \n",
       "15          DR.JANAPATI SARAT BABU               63334             no   \n",
       "16                KAMILLA JAYA RAO                2742             no   \n",
       "17            THALLAPALLI SRINIVAS                3699             no   \n",
       "18             VENKATA SWAMY INJAM                3866             no   \n",
       "19                    GORRE RAMESH                2361             no   \n",
       "20                BUPELLI NARAYANA                7258             no   \n",
       "21          BOTHA VENKATA MALLAIAH                2245             no   \n",
       "22                  JINNA RAMADEVI                9199             no   \n",
       "23                       J.V. RAJU                3020             no   \n",
       "24             GADDALA VINAY KUMAR                3266             no   \n",
       "25                 KALVALA SANJEEV                8609             no   \n",
       "26             TAGARAM SHANKAR LAL                9449             no   \n",
       "27          VINOD KUMAR BOINAPALLY              505783            yes   \n",
       "28      SRINIVAS REDDY LINGAMPALLY                3865             no   \n",
       "29               RANAVENI LAKSHMAN                2062             no   \n",
       "...                            ...                 ...            ...   \n",
       "8764                     G. PALANI                 438             no   \n",
       "8765                M.V. OMALINGAM              132657             no   \n",
       "8766         PROFESSOR M. RAMADASS                2494             no   \n",
       "8767             S. KRISHNAMOORTHY                2060             no   \n",
       "8768                  G. SHANMUGAM                1726             no   \n",
       "8769             DR. V. RANGARAJAN                8307             no   \n",
       "8770                S. EZHILARASAN                1777             no   \n",
       "8771                 M. CHITTIBABU                1340             no   \n",
       "8772              I. SENTHIL KUMAR                 477             no   \n",
       "8773               SANJIVGANTHI .S                5896             no   \n",
       "8774                    K. MANJINI                 767             no   \n",
       "8775                   K. RAMADASS                1236             no   \n",
       "8776                R. VISWANATHAN               12709             no   \n",
       "8777                    RAMAMURTHI                1442             no   \n",
       "8778                  P. BAKKIARAJ                 610             no   \n",
       "8779  P. DHANARASU @ MATHIMAHARAJA                 198             no   \n",
       "8780             None of the Above               22268             no   \n",
       "8781                   P. ASARAVEL                3472             no   \n",
       "8782           R.K.R. ANANTHARAMAN               22754             no   \n",
       "8783                 S. SUDARSANAN                1270             no   \n",
       "8784               V. NARAYANASAMY              194972             no   \n",
       "8785                 A.M.H. NAZEEM               60580             no   \n",
       "8786            MARIE UTHRIANATHAN                 366             no   \n",
       "8787                 S. CHITRAKALA                 309             no   \n",
       "8788                 KALIAYAMURTHY                 747             no   \n",
       "8789                     V. VIJAYA                 746             no   \n",
       "8790                    R. VALAVAN                 497             no   \n",
       "8791                 J. DHANDAPANI                1144             no   \n",
       "8792          PUVALA NAGESWARA RAO                 465             no   \n",
       "8793                      G. SUTHA                 467             no   \n",
       "\n",
       "     Party Abbreviation                                         Party Name  \n",
       "0                   TRS                          Telangana Rashtra Samithi  \n",
       "1                   IND                                        Independent  \n",
       "2                   TDP                                       Telugu Desam  \n",
       "3                   BSP                                Bahujan Samaj Party  \n",
       "4                   IND                                        Independent  \n",
       "5                   INC                           Indian National Congress  \n",
       "6                   IND                                        Independent  \n",
       "7                   IND                                        Independent  \n",
       "8                  NOTA                                  None of the Above  \n",
       "9                   TRS                          Telangana Rashtra Samithi  \n",
       "10                 NOTA                                  None of the Above  \n",
       "11                  INC                           Indian National Congress  \n",
       "12                 PPOI                             Pyramid Party of India  \n",
       "13                  IND                                        Independent  \n",
       "14                RP(K)                        Republican Paksha (Khoripa)  \n",
       "15                  TDP                                       Telugu Desam  \n",
       "16                  IND                                        Independent  \n",
       "17                  IND                                        Independent  \n",
       "18                 MaSP                           Mahajana Socialist Party  \n",
       "19                  IND                                        Independent  \n",
       "20                  IND                                        Independent  \n",
       "21                 BCUF                                 B. C. United Front  \n",
       "22                  IND                                        Independent  \n",
       "23                  NIP                                    New India Party  \n",
       "24                  IND                                        Independent  \n",
       "25                  RPI                          Republican Party of India  \n",
       "26                  BSP                                Bahujan Samaj Party  \n",
       "27                  TRS                          Telangana Rashtra Samithi  \n",
       "28                  IND                                        Independent  \n",
       "29                  NIP                                    New India Party  \n",
       "...                 ...                                                ...  \n",
       "8764         CPI(ML)(L)  Communist Party of India  (Marxist-Leninist)  ...  \n",
       "8765               ADMK           All India Anna Dravida Munnetra Kazhagam  \n",
       "8766                IND                                        Independent  \n",
       "8767                BSP                                Bahujan Samaj Party  \n",
       "8768                IND                                        Independent  \n",
       "8769               AAAP                                    Aam Aadmi Party  \n",
       "8770                IND                                        Independent  \n",
       "8771                IND                                        Independent  \n",
       "8772                IND                                        Independent  \n",
       "8773                IND                                        Independent  \n",
       "8774                IND                                        Independent  \n",
       "8775                IND                                        Independent  \n",
       "8776                CPI                           Communist Party of India  \n",
       "8777                IND                                        Independent  \n",
       "8778                IND                                        Independent  \n",
       "8779                IND                                        Independent  \n",
       "8780               NOTA                                  None of the Above  \n",
       "8781                IND                                        Independent  \n",
       "8782                PMK                              Pattali Makkal Katchi  \n",
       "8783                IND                                        Independent  \n",
       "8784                INC                           Indian National Congress  \n",
       "8785                DMK                          Dravida Munnetra Kazhagam  \n",
       "8786                SAP                                       Samata Party  \n",
       "8787              JD(U)                               Janata Dal  (United)  \n",
       "8788                IND                                        Independent  \n",
       "8789                IND                                        Independent  \n",
       "8790                IND                                        Independent  \n",
       "8791                IND                                        Independent  \n",
       "8792                IND                                        Independent  \n",
       "8793                IND                                        Independent  \n",
       "\n",
       "[8794 rows x 7 columns]"
      ]
     },
     "execution_count": 14,
     "metadata": {},
     "output_type": "execute_result"
    }
   ],
   "source": [
    "elections_data"
   ]
  },
  {
   "cell_type": "markdown",
   "metadata": {
    "collapsed": true
   },
   "source": [
    "# Thanks"
   ]
  },
  {
   "cell_type": "code",
   "execution_count": null,
   "metadata": {
    "collapsed": true
   },
   "outputs": [],
   "source": []
  }
 ],
 "metadata": {
  "anaconda-cloud": {},
  "kernelspec": {
   "display_name": "Python [conda root]",
   "language": "python",
   "name": "conda-root-py"
  },
  "language_info": {
   "codemirror_mode": {
    "name": "ipython",
    "version": 3
   },
   "file_extension": ".py",
   "mimetype": "text/x-python",
   "name": "python",
   "nbconvert_exporter": "python",
   "pygments_lexer": "ipython3",
   "version": "3.5.2"
  }
 },
 "nbformat": 4,
 "nbformat_minor": 1
}
